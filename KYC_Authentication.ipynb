{
 "cells": [
  {
   "cell_type": "code",
   "execution_count": 26,
   "id": "9d2ee4ce-6bb5-437d-99c6-122ac5d85018",
   "metadata": {},
   "outputs": [
    {
     "name": "stdout",
     "output_type": "stream",
     "text": [
      "JAVA_HOME: C:\\Program Files\\Java\\jdk-17\n",
      "SPARK_HOME: C:\\spark\\spark-3.5.1-bin-hadoop3\n",
      "Java version: java version \"17.0.11\" 2024-04-16 LTS\n",
      "Java(TM) SE Runtime Environment (build 17.0.11+7-LTS-207)\n",
      "Java HotSpot(TM) 64-Bit Server VM (build 17.0.11+7-LTS-207, mixed mode, sharing)\n",
      "Spark version: 3.5.1\n"
     ]
    }
   ],
   "source": [
    "import findspark\n",
    "findspark.init()\n",
    "findspark.find()\n",
    "\n",
    "import os\n",
    "\n",
    "# Check JAVA_HOME\n",
    "java_home = os.environ.get('JAVA_HOME')\n",
    "print(f'JAVA_HOME: {java_home}')\n",
    "\n",
    "# Check SPARK_HOME\n",
    "spark_home = os.environ.get('SPARK_HOME')\n",
    "print(f'SPARK_HOME: {spark_home}')\n",
    "\n",
    "# Verify Java version\n",
    "java_version = os.popen('java -version 2>&1').read().strip()\n",
    "print(f'Java version: {java_version}')\n",
    "\n",
    "# Verify Spark version\n",
    "from pyspark.sql import SparkSession\n",
    "\n",
    "spark = SparkSession.builder.appName(\"CheckVersions\").getOrCreate()\n",
    "spark_version = spark.version\n",
    "print(f'Spark version: {spark_version}')\n",
    "\n",
    "spark.stop()"
   ]
  },
  {
   "cell_type": "code",
   "execution_count": 134,
   "id": "d36fc04e-6c1c-43db-9773-2f2e23e8ad59",
   "metadata": {},
   "outputs": [],
   "source": [
    "from pyspark.sql import SparkSession\n",
    "from pyspark.sql.functions import col, levenshtein ,when, greatest ,length , lit , lower"
   ]
  },
  {
   "cell_type": "code",
   "execution_count": 28,
   "id": "a9a21a71-e392-4299-a0f2-290d9639699b",
   "metadata": {},
   "outputs": [],
   "source": [
    "spark = SparkSession.builder.appName(\"PercentageMatchingExample\").getOrCreate()\n"
   ]
  },
  {
   "cell_type": "code",
   "execution_count": 29,
   "id": "83ba51f2-abf2-41dd-9ce6-4b123ca2b24b",
   "metadata": {},
   "outputs": [],
   "source": [
    "syn=spark.read.csv(r\"C:\\Users\\sansk\\Downloads\\pyspark\\Synthetic_kyc_data.csv\",header=True,inferSchema=True,sep=\",\",encoding=\"UTF-8\",nullValue=\"NULL\")"
   ]
  },
  {
   "cell_type": "code",
   "execution_count": 30,
   "id": "da5bf62a-ed00-40bf-8488-d1cf70ff653c",
   "metadata": {},
   "outputs": [
    {
     "name": "stdout",
     "output_type": "stream",
     "text": [
      "+-----------+---------------+----------+----------+-------------+-----------+------+--------------+-----------------+--------------------+-------------+-----------+--------------+------------+--------------+--------------------+--------------------+\n",
      "|Customer Id|Passport Number|First Name| Last Name|Date of Birth|Blood Group|Gender|Marital Status|  Education Level|             Address|         City|Postal Code|       Country|Country Code|  Phone Number|        Company Name|               Email|\n",
      "+-----------+---------------+----------+----------+-------------+-----------+------+--------------+-----------------+--------------------+-------------+-----------+--------------+------------+--------------+--------------------+--------------------+\n",
      "| 3728211145|35SEJI84WPXDGBF|     Lacey|   Charles|   1958-09-05|         O+|Female|       widowed|      High School|67969 Eddie Land,...|San Francisco|      19222| United States|          US| +1-3276914085|Walton  Decker an...|lacey.charles@wal...|\n",
      "| 9020302988|YPMLQ1AKG2T6H8R|   Anthony|      Hart|   1960-07-08|        AB+|  Male|       widowed|              PhD|053 Hamilton cros...|        Leeds|    W6K 9WA|United Kingdom|          GB|+44-3841609275|        Ferguson PLC|anthony.hart@ferg...|\n",
      "| 8674223212|65L8MFAJEGVQ3XN|      Dean|     Walsh|   1970-01-19|         O-|  Male|      divorced|      High School|23 Ian key, Studi...|      Bristol|     L2 6YS|United Kingdom|          GB|+44-2956730184|McDonald  Hawkins...|dean.walsh@mcdona...|\n",
      "| 6422849874|HXRLW79SA2C1ZN4|     David|    Wright|   1978-08-20|         O-|  Male|      divorced|              PhD|86626 Alicia Squa...|       Boston|      87398| United States|          US| +1-4269571308|          Hughes Ltd|david.wright@hugh...|\n",
      "| 9580306249|V48BL0EJOMNDGAH| Elizabeth|  Martinez|   1970-01-26|         O-|Female|       married|Bachelor's Degree|56114 Roger Traff...| Jacksonville|      26508| United States|          US| +1-1328654097|Rodriguez  Briggs...|elizabeth.martine...|\n",
      "| 2222675849|1GW92YQFKX5RD4L|      Dawn|    Wright|   1959-05-10|         O+|Female|       married|      High School|71 Norris knolls,...|    Liverpool|    N9G 6QQ|United Kingdom|          GB|+44-4627538109|Khan  Williams an...|dawn.wright@khanw...|\n",
      "| 2755763475|DUOY0AEJ3P7ZT12|      Paul|   Bennett|   1983-06-11|         A+|  Male|       married|      High School|925 Wilkerson Mou...|     Columbus|      97444| United States|          US| +1-2471593680|     Thompson Spears|paul.bennett@thom...|\n",
      "| 3631040460|R6IPB32QWOYZCNG|    Janice|    Watson|   1960-10-09|         O+|Female|       widowed|Bachelor's Degree|4 Frederick spurs...|    Sheffield|   KW62 9FR|United Kingdom|          GB|+44-2503869471|          Murray Ltd|janice.watson@mur...|\n",
      "| 1038026320|DZVXQR5EIFP428S|   Douglas|    Walker|   1999-02-13|        AB+|  Male|       married|Bachelor's Degree|644 Miller green,...|    Sheffield|    LA4 7TQ|United Kingdom|          GB|+44-3617850942|     Edwards Howells|douglas.walker@ed...|\n",
      "| 4635926225|6L1B5DAQHZ0M28U|      Mary|     Ortiz|   1967-02-04|         B-|Female|       married|Bachelor's Degree|96677 Garcia Bypa...|  San Antonio|      54073| United States|          US| +1-2967481530|        Harrison Ltd|mary.ortiz@harris...|\n",
      "| 5569941284|DY1G3IOJPAS5X4H|     Jodie|     Brown|   1969-12-01|        AB-|Female|       married|Bachelor's Degree|369 Michael lakes...|      Cardiff|    ST7 1GG|United Kingdom|          GB|+44-8604529173|          Day Cooper|jodie.brown@dayco...|\n",
      "| 8451690535|FOMGXZWCQE7TYIU|      Mark|    Molina|   1985-12-19|         B-|  Male|       married|              PhD|716 Stewart Parkw...| Philadelphia|      07398| United States|          US| +1-7063985412|Diaz  Yang and Ga...|mark.molina@diazy...|\n",
      "| 4604567629|KN4LM1WYO82E36T|   Charles|     Green|   1993-05-07|         O+|  Male|        single|              PhD|27 Colin ramp, Fl...|   Manchester|    L1F 7RE|United Kingdom|          GB|+44-9763214580|        Harrison Ltd|charles.green@har...|\n",
      "| 5993782536|29FD5TON6LG1PKY|    Declan|      Wood|   1968-04-28|        AB-|  Male|       married|      High School|3 Raymond mount, ...|        Leeds|    L9C 9BE|United Kingdom|          GB|+44-2916705483|         Perkins PLC|declan.wood@perki...|\n",
      "| 3980842793|SFHNEVX4LUJTDO3|    Robert|   Wallace|   1989-12-31|         A+|  Male|        single|  Master's Degree|0020 Soto Orchard...|     New York|      43184| United States|          US| +1-1659824037|Thompson  Reyes a...|robert.wallace@th...|\n",
      "| 1848174159|SB6GTYOF4CPW850|     David|   Serrano|   1962-10-01|        AB-|  Male|       widowed|Bachelor's Degree|019 Blackburn Gre...|    San Diego|      98602| United States|          US| +1-4918375062|         Coleman Inc|david.serrano@col...|\n",
      "| 4018467291|W4QCAK6I9G57HRU|     Colin|  Anderson|   1974-05-10|         O-|  Male|      divorced|Bachelor's Degree|98 Harris springs...|      Cardiff|    NP4 9FN|United Kingdom|          GB|+44-1376482059|        Mitchell LLC|colin.anderson@mi...|\n",
      "| 3366374603|QA719WKG68ORCL3|      Dean|    Harris|   1991-07-01|         O-|  Male|       married|  Master's Degree|66 Jennifer strav...|       London|   KT54 9QR|United Kingdom|          GB|+44-7109452386|        Hardy Powell|dean.harris@hardy...|\n",
      "| 1705571855|JFEKV41TXD3G56N|    Lauren|    Obrien|   1966-09-13|         A-|Female|      divorced|Bachelor's Degree|1752 Joseph Gatew...|      Phoenix|      69069| United States|          US| +1-3960182574|           Moore PLC|lauren.obrien@moo...|\n",
      "| 4807960622|RLDQPXJ03SM27EH|  Rosemary|Hutchinson|   2004-04-22|        AB+|Female|        single|Bachelor's Degree|026 Bennett stree...|      Cardiff|    OL9 7ZH|United Kingdom|          GB|+44-4869150327|Richardson  Reyno...|rosemary.hutchins...|\n",
      "+-----------+---------------+----------+----------+-------------+-----------+------+--------------+-----------------+--------------------+-------------+-----------+--------------+------------+--------------+--------------------+--------------------+\n",
      "only showing top 20 rows\n",
      "\n"
     ]
    }
   ],
   "source": [
    "syn.show()"
   ]
  },
  {
   "cell_type": "code",
   "execution_count": 31,
   "id": "0a1df041-d67f-4238-904a-309fb6fcae18",
   "metadata": {},
   "outputs": [],
   "source": [
    "equ=spark.read.csv(r\"C:\\Users\\sansk\\Downloads\\pyspark\\equifax_third_party_synthetic_banking_kyc_data.csv\",header=True,inferSchema=True,sep=\",\",encoding=\"UTF-8\",nullValue=\"NULL\")"
   ]
  },
  {
   "cell_type": "code",
   "execution_count": 32,
   "id": "713bd739-245a-4749-a454-fa6cf8571e8e",
   "metadata": {},
   "outputs": [
    {
     "name": "stdout",
     "output_type": "stream",
     "text": [
      "+---------------+----------+----------+-------------+-----------+------+--------------+-----------------+--------------------+------------+-----------+--------------+------------+--------------+--------------------+--------------------+\n",
      "|Passport Number|First Name| Last Name|Date of Birth|Blood Group|Gender|Marital Status|  Education Level|             Address|        City|Postal Code|       Country|Country Code|  Phone Number|        Company Name|               Email|\n",
      "+---------------+----------+----------+-------------+-----------+------+--------------+-----------------+--------------------+------------+-----------+--------------+------------+--------------+--------------------+--------------------+\n",
      "|35SEJI84WPXDGBF|     Lacey|   Charles|   1958-09-05|         O+|Female|       widowed|      High School|067 Decker Missio...|      Austin|      19222| United States|          US| +1-3276914085|Walton  Decker an...|lacey.charles@wal...|\n",
      "|YPMLQ1AKG2T6H8R|   Anthony|      Hart|     60-07-08|        AB+|  Male|       widowed|              PhD|053 Hamilton cros...|       Leeds|      25247|United Kingdom|          GB|+44-3841609275|        Ferguson PLC|anthony.hart@ferg...|\n",
      "|65L8MFAJEGVQ3XN|      Dean|     Walsh|     70-01-19|         O-|  Male|      divorced|Bachelor's Degree|23 Ian key, Studi...|     Bristol|     L2 6YS|United Kingdom|          GB|+44-2956730184|McDonald  Hawkins...|dean.walsh@mcdona...|\n",
      "|HXRLW79SA2C1ZN4|     David|    Wright|   1978-08-20|         O-|  Male|      divorced|              PhD|7 McCarthy circle...|   Doncaster|      87398| United States|          US| +1-4235817960|          Hughes Ltd|david.wright@hugh...|\n",
      "|V48BL0EJOMNDGAH| Elizabeth|  Martinez|   1970-01-26|         O-|     F|       married|Bachelor's Degree|56114 Roger Traff...|Jacksonville|      04687| United States|          US| +1-1328654097|Rodriguez  Briggs...|elizabeth.martine...|\n",
      "|1GW92YQFKX5RD4L|      Dawn|    Wright|   1959-05-10|         O+|Female|       married|      High School|71 Norris knolls,...|  Washington|    N9G 6QQ|United Kingdom|          GB|+44-1605248379|Khan  Williams an...|dawn.wright@khanw...|\n",
      "|DUOY0AEJ3P7ZT12|      Paul|   Bennett|     83-06-11|         A+|  Male|       married|      High School|925 Wilkerson Mou...|    Columbus|      97444| United States|          US| +1-4826135970|     Thompson Spears|paul.bennett@thom...|\n",
      "|R6IPB32QWOYZCNG|    Janice|    Watson|   1960-10-09|         O+|Female|       widowed|Bachelor's Degree|4 Frederick spurs...|     Phoenix|      82517|United Kingdom|          GB|+44-2503869471|          Murray Ltd|janice.watson@mur...|\n",
      "|DZVXQR5EIFP428S|   Douglas|    Walker|   1999-02-13|        AB+|  Male|       married|Bachelor's Degree|644 Miller green,...|   Sheffield|   SM8N 5SE|United Kingdom|          GB|+44-0623489175|     Edwards Howells|douglas.walker@ed...|\n",
      "|6L1B5DAQHZ0M28U|      Mary|     Ortiz|   1967-02-04|         B-|Female|       married|Bachelor's Degree|96677 Garcia Bypa...| San Antonio|      54073| United States|          US| +1-9704312586|        Harrison Ltd|mary.ortiz@harris...|\n",
      "|DY1G3IOJPAS5X4H|     Jodie|     Brown|   1969-12-01|        AB-|     F|       married|Bachelor's Degree|369 Michael lakes...|     Cardiff|    G2F 7QL|United Kingdom|          GB|+44-8604529173|          Day Cooper|jodie.brown@dayco...|\n",
      "|FOMGXZWCQE7TYIU|      Mark|    Molina|   1985-12-19|         B-|  Male|       married|              PhD|716 Stewart Parkw...|Philadelphia|      07398| United States|          US| +1-7063985412|Diaz  Yang and Ga...|mark.molina@diazy...|\n",
      "|KN4LM1WYO82E36T|   Charles|     Green|   1993-05-07|         O+|  Male|        single|              PhD|27 Colin ramp, Fl...|  Manchester|    L1F 7RE|United Kingdom|          GB|+44-9763214580|        Harrison Ltd|charles.green@har...|\n",
      "|29FD5TON6LG1PKY|    Declan|      Wood|     68-04-28|        AB-|     M|       married|Bachelor's Degree|3 Raymond mount, ...|  Washington|    DN0 9RP|United Kingdom|          GB|+44-2916705483|         Perkins PLC|declan.wood@perki...|\n",
      "|SFHNEVX4LUJTDO3|    Robert|   Wallace|   1989-12-31| A Positive|     M|        single|  Master's Degree|0020 Soto Orchard...|    New York|      43184| United States|          US| +1-1659824037|Thompson  Reyes a...|robert.wallace@th...|\n",
      "|SB6GTYOF4CPW850|     David|   Serrano|   1962-10-01|        AB-|  Male|       widowed|Bachelor's Degree|019 Blackburn Gre...|   San Diego|      98602| United States|          US| +1-3684925107|         Coleman Inc|david.serrano@col...|\n",
      "|W4QCAK6I9G57HRU|     Colin|  Anderson|     74-05-10|         O-|  Male|      divorced|Bachelor's Degree|98 Harris springs...|     Cardiff|    NP4 9FN|United Kingdom|          GB|+44-1376482059|        Mitchell LLC|colin.anderson@mi...|\n",
      "|QA719WKG68ORCL3|      Dean|    Harris|   1991-07-01|         O-|     M|       married|  Master's Degree|479 Jim Stream, A...|      London|   KT54 9QR|United Kingdom|          GB|+44-7109452386|        Hardy Powell|dean.harris@hardy...|\n",
      "|JFEKV41TXD3G56N|    Lauren|    Obrien|   1966-09-13| A Negative|Female|      divorced|Bachelor's Degree|1752 Joseph Gatew...|     Phoenix|      69069| United States|          US| +1-3960182574|           Moore PLC|lauren.obrien@moo...|\n",
      "|RLDQPXJ03SM27EH|  Rosemary|Hutchinson|     04-04-22|        AB+|Female|        single|Bachelor's Degree|026 Bennett stree...|     Cardiff|      10988|United Kingdom|          GB| +1-2368170954|Richardson  Reyno...|rosemary.hutchins...|\n",
      "+---------------+----------+----------+-------------+-----------+------+--------------+-----------------+--------------------+------------+-----------+--------------+------------+--------------+--------------------+--------------------+\n",
      "only showing top 20 rows\n",
      "\n"
     ]
    }
   ],
   "source": [
    "equ.show()\n"
   ]
  },
  {
   "cell_type": "code",
   "execution_count": 33,
   "id": "4f4b60df-d206-4687-84cc-5cfe7636faa1",
   "metadata": {},
   "outputs": [],
   "source": [
    "dnb=spark.read.csv(r\"C:\\Users\\sansk\\Downloads\\pyspark\\dnb_third_party_synthetic_banking_kyc_data.csv\",header=True,inferSchema=True,sep=\",\",encoding=\"UTF-8\",nullValue=\"NULL\")"
   ]
  },
  {
   "cell_type": "code",
   "execution_count": 34,
   "id": "720a1180-7bae-4596-a5b8-6661d73d0e7f",
   "metadata": {},
   "outputs": [
    {
     "name": "stdout",
     "output_type": "stream",
     "text": [
      "+---------------+----------+----------+-------------+-----------+------+--------------+-----------------+--------------------+-------------+-----------+--------------+------------+--------------+--------------------+--------------------+\n",
      "|Passport Number|First Name| Last Name|Date of Birth|Blood Group|Gender|Marital Status|  Education Level|             Address|         City|Postal Code|       Country|Country Code|  Phone Number|        Company Name|               Email|\n",
      "+---------------+----------+----------+-------------+-----------+------+--------------+-----------------+--------------------+-------------+-----------+--------------+------------+--------------+--------------------+--------------------+\n",
      "|35SEJI84WPXDGBF|     Lacey|   Charles|   1958-09-05|         O+|Female|       widowed|      High School|67969 Eddie Land,...|San Francisco|      19222| United States|          US| +1-3276914085|Walton  Decker an...|lacey.charles@wal...|\n",
      "|YPMLQ1AKG2T6H8R|   Anthony|      Hart|   1960-07-08|        AB+|  Male|       widowed|      High School|053 Hamilton cros...|        Leeds|    W6K 9WA|United Kingdom|          GB|+44-3841609275|        Ferguson PLC|anthony.hart@ferg...|\n",
      "|65L8MFAJEGVQ3XN|      Dean|     Walsh|   1970-01-19|         O-|     M|      divorced|      High School|23 Ian key, Studi...|      Bristol|     L2 6YS|United Kingdom|          GB| +1-7814926053|McDonald  Hawkins...|dean.walsh@mcdona...|\n",
      "|HXRLW79SA2C1ZN4|     David|    Wright|     78-08-20|         O-|  Male|      divorced|              PhD|194 Anderson Stat...|       Boston|      87398| United States|          US| +1-4269571308|          Hughes Ltd|david.wright@hugh...|\n",
      "|V48BL0EJOMNDGAH| Elizabeth|  Martinez|   1970-01-26|         O-|Female|       married|Bachelor's Degree|07 Johnson canyon...|    Sheffield|      26508| United States|          US| +1-1328654097|Rodriguez  Briggs...|elizabeth.martine...|\n",
      "|1GW92YQFKX5RD4L|      Dawn|    Wright|   1959-05-10|         O+|Female|       married|      High School|71 Norris knolls,...|    Liverpool|    N9G 6QQ|United Kingdom|          GB|+44-4627538109|Khan  Williams an...|dawn.wright@khanw...|\n",
      "|DUOY0AEJ3P7ZT12|      Paul|   Bennett|   1983-06-11| A Positive|  Male|       married|      High School|41880 Monica Mall...|     Columbus|      97444| United States|          US| +1-2471593680|     Thompson Spears|paul.bennett@thom...|\n",
      "|R6IPB32QWOYZCNG|    Janice|    Watson|   1960-10-09|         O+|Female|       widowed|Bachelor's Degree|27783 Kramer Over...|    Sheffield|   KW62 9FR|United Kingdom|          GB|+44-5762314980|          Murray Ltd|janice.watson@mur...|\n",
      "|DZVXQR5EIFP428S|   Douglas|    Walker|   1999-02-13|        AB+|  Male|       married|Bachelor's Degree|644 Miller green,...|    Sheffield|    LA4 7TQ|United Kingdom|          GB|+44-3617850942|     Edwards Howells|douglas.walker@ed...|\n",
      "|6L1B5DAQHZ0M28U|      Mary|     Ortiz|   1967-02-04|         B-|Female|       married|Bachelor's Degree|96677 Garcia Bypa...|  San Antonio|     N2 1WQ| United States|          US| +1-2967481530|        Harrison Ltd|mary.ortiz@harris...|\n",
      "|DY1G3IOJPAS5X4H|     Jodie|     Brown|   1969-12-01|        AB-|     F|       married|      High School|369 Michael lakes...|      Cardiff|    ST7 1GG|United Kingdom|          GB|+44-8604529173|          Day Cooper|jodie.brown@dayco...|\n",
      "|FOMGXZWCQE7TYIU|      Mark|    Molina|   1985-12-19|         B-|  Male|       married|              PhD|716 Stewart Parkw...| Philadelphia|      07398| United States|          US| +1-7063985412|Diaz  Yang and Ga...|mark.molina@diazy...|\n",
      "|KN4LM1WYO82E36T|   Charles|     Green|     93-05-07|         O+|  Male|        single|              PhD|27 Colin ramp, Fl...|   Manchester|    L1F 7RE|United Kingdom|          GB|+44-9763214580|        Harrison Ltd|charles.green@har...|\n",
      "|29FD5TON6LG1PKY|    Declan|      Wood|   1968-04-28|        AB-|  Male|       married|      High School|3 Raymond mount, ...|        Leeds|    IG8 8EQ|United Kingdom|          GB|+44-2916705483|         Perkins PLC|declan.wood@perki...|\n",
      "|SFHNEVX4LUJTDO3|    Robert|   Wallace|   1989-12-31|         A+|  Male|        single|  Master's Degree|0020 Soto Orchard...|     New York|      43184| United States|          US| +1-1659824037|Thompson  Reyes a...|robert.wallace@th...|\n",
      "|SB6GTYOF4CPW850|     David|   Serrano|     62-10-01|        AB-|  Male|       widowed|      High School|019 Blackburn Gre...|    San Diego|      98602| United States|          US| +1-7408692513|         Coleman Inc|david.serrano@col...|\n",
      "|W4QCAK6I9G57HRU|     Colin|  Anderson|   1974-05-10|         O-|     M|      divorced|Bachelor's Degree|98 Harris springs...|      Cardiff|    NP4 9FN|United Kingdom|          GB|+44-1376482059|        Mitchell LLC|colin.anderson@mi...|\n",
      "|QA719WKG68ORCL3|      Dean|    Harris|   1991-07-01|         O-|  Male|       married|  Master's Degree|66 Jennifer strav...|     Columbus|   KT54 9QR|United Kingdom|          GB|+44-7109452386|        Hardy Powell|dean.harris@hardy...|\n",
      "|JFEKV41TXD3G56N|    Lauren|    Obrien|   1966-09-13|         A-|Female|      divorced|Bachelor's Degree|1752 Joseph Gatew...|      Phoenix|      69069| United States|          US| +1-0146792583|           Moore PLC|lauren.obrien@moo...|\n",
      "|RLDQPXJ03SM27EH|  Rosemary|Hutchinson|   2004-04-22|        AB+|Female|        single|Bachelor's Degree|170 Brenda crest,...|   Manchester|    OL9 7ZH|United Kingdom|          GB|+44-4869150327|Richardson  Reyno...|rosemary.hutchins...|\n",
      "+---------------+----------+----------+-------------+-----------+------+--------------+-----------------+--------------------+-------------+-----------+--------------+------------+--------------+--------------------+--------------------+\n",
      "only showing top 20 rows\n",
      "\n"
     ]
    }
   ],
   "source": [
    "dnb.show()"
   ]
  },
  {
   "cell_type": "code",
   "execution_count": 35,
   "id": "3c31a5a7-3807-4fb7-8b30-5c922310b9f5",
   "metadata": {},
   "outputs": [
    {
     "name": "stdout",
     "output_type": "stream",
     "text": [
      "root\n",
      " |-- Passport Number: string (nullable = true)\n",
      " |-- First Name: string (nullable = true)\n",
      " |-- Last Name: string (nullable = true)\n",
      " |-- Date of Birth: string (nullable = true)\n",
      " |-- Blood Group: string (nullable = true)\n",
      " |-- Gender: string (nullable = true)\n",
      " |-- Marital Status: string (nullable = true)\n",
      " |-- Education Level: string (nullable = true)\n",
      " |-- Address: string (nullable = true)\n",
      " |-- City: string (nullable = true)\n",
      " |-- Postal Code: string (nullable = true)\n",
      " |-- Country: string (nullable = true)\n",
      " |-- Country Code: string (nullable = true)\n",
      " |-- Phone Number: string (nullable = true)\n",
      " |-- Company Name: string (nullable = true)\n",
      " |-- Email: string (nullable = true)\n",
      "\n"
     ]
    }
   ],
   "source": [
    "equ.printSchema()\n"
   ]
  },
  {
   "cell_type": "code",
   "execution_count": 36,
   "id": "74192ea1-fa7e-4b02-8b54-c36788f2b404",
   "metadata": {},
   "outputs": [
    {
     "name": "stdout",
     "output_type": "stream",
     "text": [
      "root\n",
      " |-- Passport Number: string (nullable = true)\n",
      " |-- First Name: string (nullable = true)\n",
      " |-- Last Name: string (nullable = true)\n",
      " |-- Date of Birth: string (nullable = true)\n",
      " |-- Blood Group: string (nullable = true)\n",
      " |-- Gender: string (nullable = true)\n",
      " |-- Marital Status: string (nullable = true)\n",
      " |-- Education Level: string (nullable = true)\n",
      " |-- Address: string (nullable = true)\n",
      " |-- City: string (nullable = true)\n",
      " |-- Postal Code: string (nullable = true)\n",
      " |-- Country: string (nullable = true)\n",
      " |-- Country Code: string (nullable = true)\n",
      " |-- Phone Number: string (nullable = true)\n",
      " |-- Company Name: string (nullable = true)\n",
      " |-- Email: string (nullable = true)\n",
      "\n"
     ]
    }
   ],
   "source": [
    "equ.printSchema()"
   ]
  },
  {
   "cell_type": "code",
   "execution_count": 46,
   "id": "f63c333e-bbb0-4338-8a42-060c5f53a3bd",
   "metadata": {},
   "outputs": [],
   "source": [
    "equ=spark.read.csv(r\"C:\\Users\\sansk\\Downloads\\pyspark\\equifax_third_party_synthetic_banking_kyc_data.csv\",header=True,inferSchema=True,sep=\",\",encoding=\"UTF-8\",nullValue=\"NULL\")"
   ]
  },
  {
   "cell_type": "code",
   "execution_count": 47,
   "id": "e2b51927-bed5-4915-bad0-6ccae7dd9367",
   "metadata": {},
   "outputs": [
    {
     "name": "stdout",
     "output_type": "stream",
     "text": [
      "root\n",
      " |-- Passport Number: string (nullable = true)\n",
      " |-- equ_First_Name: string (nullable = true)\n",
      " |-- equ_Last_Name: string (nullable = true)\n",
      " |-- equ_Date_of_Birth: string (nullable = true)\n",
      " |-- equ_Blood_Group: string (nullable = true)\n",
      " |-- equ_Gender: string (nullable = true)\n",
      " |-- equ_Marital_Status: string (nullable = true)\n",
      " |-- equ_Education_Level: string (nullable = true)\n",
      " |-- equ_Address: string (nullable = true)\n",
      " |-- equ_City: string (nullable = true)\n",
      " |-- equ_Postal_Code: string (nullable = true)\n",
      " |-- equ_Country: string (nullable = true)\n",
      " |-- equ_Country_Code: string (nullable = true)\n",
      " |-- equ_Phone_Number: string (nullable = true)\n",
      " |-- equ_Company_Name: string (nullable = true)\n",
      " |-- equ_Email: string (nullable = true)\n",
      "\n"
     ]
    }
   ],
   "source": [
    "equ.printSchema()"
   ]
  },
  {
   "cell_type": "code",
   "execution_count": 48,
   "id": "3b37cb2b-733f-48fc-a1eb-ba555e8d575a",
   "metadata": {},
   "outputs": [],
   "source": [
    "dnb=spark.read.csv(r\"C:\\Users\\sansk\\Downloads\\pyspark\\dnb_third_party_synthetic_banking_kyc_data.csv\",header=True,inferSchema=True,sep=\",\",encoding=\"UTF-8\",nullValue=\"NULL\")"
   ]
  },
  {
   "cell_type": "code",
   "execution_count": 49,
   "id": "5e37b880-4c66-40d6-b440-9eb3dfaeab0d",
   "metadata": {},
   "outputs": [
    {
     "name": "stdout",
     "output_type": "stream",
     "text": [
      "root\n",
      " |-- Passport Number: string (nullable = true)\n",
      " |-- dnb_First_Name: string (nullable = true)\n",
      " |-- dnb_Last_Name: string (nullable = true)\n",
      " |-- dnb_Date_of_Birth: string (nullable = true)\n",
      " |-- dnb_Blood_Group: string (nullable = true)\n",
      " |-- dnb_Gender: string (nullable = true)\n",
      " |-- dnb_Marital_Status: string (nullable = true)\n",
      " |-- dnb_Education_Level: string (nullable = true)\n",
      " |-- dnb_Address: string (nullable = true)\n",
      " |-- dnb_City: string (nullable = true)\n",
      " |-- dnb_Postal_Code: string (nullable = true)\n",
      " |-- dnb_Country: string (nullable = true)\n",
      " |-- dnb_Country_Code: string (nullable = true)\n",
      " |-- dnb_Phone_Number: string (nullable = true)\n",
      " |-- dnb_Company_Name: string (nullable = true)\n",
      " |-- dnb_Email: string (nullable = true)\n",
      "\n"
     ]
    }
   ],
   "source": [
    "dnb.printSchema()"
   ]
  },
  {
   "cell_type": "code",
   "execution_count": 22,
   "id": "9ff96c3b-9c49-4a9f-916a-5b6c898464ad",
   "metadata": {},
   "outputs": [
    {
     "name": "stdout",
     "output_type": "stream",
     "text": [
      "+-----------+---------------+----------+----------+-------------+-----------+------+--------------+-----------------+--------------------+-------------+-----------+--------------+------------+--------------+--------------------+--------------------+\n",
      "|Customer Id|Passport Number|First Name| Last Name|Date of Birth|Blood Group|Gender|Marital Status|  Education Level|             Address|         City|Postal Code|       Country|Country Code|  Phone Number|        Company Name|               Email|\n",
      "+-----------+---------------+----------+----------+-------------+-----------+------+--------------+-----------------+--------------------+-------------+-----------+--------------+------------+--------------+--------------------+--------------------+\n",
      "| 3728211145|35SEJI84WPXDGBF|     Lacey|   Charles|   1958-09-05|         O+|Female|       widowed|      High School|67969 Eddie Land,...|San Francisco|      19222| United States|          US| +1-3276914085|Walton  Decker an...|lacey.charles@wal...|\n",
      "| 9020302988|YPMLQ1AKG2T6H8R|   Anthony|      Hart|   1960-07-08|        AB+|  Male|       widowed|              PhD|053 Hamilton cros...|        Leeds|    W6K 9WA|United Kingdom|          GB|+44-3841609275|        Ferguson PLC|anthony.hart@ferg...|\n",
      "| 8674223212|65L8MFAJEGVQ3XN|      Dean|     Walsh|   1970-01-19|         O-|  Male|      divorced|      High School|23 Ian key, Studi...|      Bristol|     L2 6YS|United Kingdom|          GB|+44-2956730184|McDonald  Hawkins...|dean.walsh@mcdona...|\n",
      "| 6422849874|HXRLW79SA2C1ZN4|     David|    Wright|   1978-08-20|         O-|  Male|      divorced|              PhD|86626 Alicia Squa...|       Boston|      87398| United States|          US| +1-4269571308|          Hughes Ltd|david.wright@hugh...|\n",
      "| 9580306249|V48BL0EJOMNDGAH| Elizabeth|  Martinez|   1970-01-26|         O-|Female|       married|Bachelor's Degree|56114 Roger Traff...| Jacksonville|      26508| United States|          US| +1-1328654097|Rodriguez  Briggs...|elizabeth.martine...|\n",
      "| 2222675849|1GW92YQFKX5RD4L|      Dawn|    Wright|   1959-05-10|         O+|Female|       married|      High School|71 Norris knolls,...|    Liverpool|    N9G 6QQ|United Kingdom|          GB|+44-4627538109|Khan  Williams an...|dawn.wright@khanw...|\n",
      "| 2755763475|DUOY0AEJ3P7ZT12|      Paul|   Bennett|   1983-06-11|         A+|  Male|       married|      High School|925 Wilkerson Mou...|     Columbus|      97444| United States|          US| +1-2471593680|     Thompson Spears|paul.bennett@thom...|\n",
      "| 3631040460|R6IPB32QWOYZCNG|    Janice|    Watson|   1960-10-09|         O+|Female|       widowed|Bachelor's Degree|4 Frederick spurs...|    Sheffield|   KW62 9FR|United Kingdom|          GB|+44-2503869471|          Murray Ltd|janice.watson@mur...|\n",
      "| 1038026320|DZVXQR5EIFP428S|   Douglas|    Walker|   1999-02-13|        AB+|  Male|       married|Bachelor's Degree|644 Miller green,...|    Sheffield|    LA4 7TQ|United Kingdom|          GB|+44-3617850942|     Edwards Howells|douglas.walker@ed...|\n",
      "| 4635926225|6L1B5DAQHZ0M28U|      Mary|     Ortiz|   1967-02-04|         B-|Female|       married|Bachelor's Degree|96677 Garcia Bypa...|  San Antonio|      54073| United States|          US| +1-2967481530|        Harrison Ltd|mary.ortiz@harris...|\n",
      "| 5569941284|DY1G3IOJPAS5X4H|     Jodie|     Brown|   1969-12-01|        AB-|Female|       married|Bachelor's Degree|369 Michael lakes...|      Cardiff|    ST7 1GG|United Kingdom|          GB|+44-8604529173|          Day Cooper|jodie.brown@dayco...|\n",
      "| 8451690535|FOMGXZWCQE7TYIU|      Mark|    Molina|   1985-12-19|         B-|  Male|       married|              PhD|716 Stewart Parkw...| Philadelphia|      07398| United States|          US| +1-7063985412|Diaz  Yang and Ga...|mark.molina@diazy...|\n",
      "| 4604567629|KN4LM1WYO82E36T|   Charles|     Green|   1993-05-07|         O+|  Male|        single|              PhD|27 Colin ramp, Fl...|   Manchester|    L1F 7RE|United Kingdom|          GB|+44-9763214580|        Harrison Ltd|charles.green@har...|\n",
      "| 5993782536|29FD5TON6LG1PKY|    Declan|      Wood|   1968-04-28|        AB-|  Male|       married|      High School|3 Raymond mount, ...|        Leeds|    L9C 9BE|United Kingdom|          GB|+44-2916705483|         Perkins PLC|declan.wood@perki...|\n",
      "| 3980842793|SFHNEVX4LUJTDO3|    Robert|   Wallace|   1989-12-31|         A+|  Male|        single|  Master's Degree|0020 Soto Orchard...|     New York|      43184| United States|          US| +1-1659824037|Thompson  Reyes a...|robert.wallace@th...|\n",
      "| 1848174159|SB6GTYOF4CPW850|     David|   Serrano|   1962-10-01|        AB-|  Male|       widowed|Bachelor's Degree|019 Blackburn Gre...|    San Diego|      98602| United States|          US| +1-4918375062|         Coleman Inc|david.serrano@col...|\n",
      "| 4018467291|W4QCAK6I9G57HRU|     Colin|  Anderson|   1974-05-10|         O-|  Male|      divorced|Bachelor's Degree|98 Harris springs...|      Cardiff|    NP4 9FN|United Kingdom|          GB|+44-1376482059|        Mitchell LLC|colin.anderson@mi...|\n",
      "| 3366374603|QA719WKG68ORCL3|      Dean|    Harris|   1991-07-01|         O-|  Male|       married|  Master's Degree|66 Jennifer strav...|       London|   KT54 9QR|United Kingdom|          GB|+44-7109452386|        Hardy Powell|dean.harris@hardy...|\n",
      "| 1705571855|JFEKV41TXD3G56N|    Lauren|    Obrien|   1966-09-13|         A-|Female|      divorced|Bachelor's Degree|1752 Joseph Gatew...|      Phoenix|      69069| United States|          US| +1-3960182574|           Moore PLC|lauren.obrien@moo...|\n",
      "| 4807960622|RLDQPXJ03SM27EH|  Rosemary|Hutchinson|   2004-04-22|        AB+|Female|        single|Bachelor's Degree|026 Bennett stree...|      Cardiff|    OL9 7ZH|United Kingdom|          GB|+44-4869150327|Richardson  Reyno...|rosemary.hutchins...|\n",
      "+-----------+---------------+----------+----------+-------------+-----------+------+--------------+-----------------+--------------------+-------------+-----------+--------------+------------+--------------+--------------------+--------------------+\n",
      "only showing top 20 rows\n",
      "\n"
     ]
    }
   ],
   "source": [
    "syn.show()"
   ]
  },
  {
   "cell_type": "code",
   "execution_count": 50,
   "id": "6dccfcf9-d9c5-4e3b-b1a1-52dcdd39fb04",
   "metadata": {},
   "outputs": [],
   "source": [
    "joined_syn_equ = syn.join(equ,\"Passport Number\")"
   ]
  },
  {
   "cell_type": "code",
   "execution_count": 51,
   "id": "f0d2706f-09c7-49d7-a941-a31a627c3985",
   "metadata": {},
   "outputs": [],
   "source": [
    "dr = joined_syn_equ.join(dnb,\"Passport Number\")"
   ]
  },
  {
   "cell_type": "code",
   "execution_count": 52,
   "id": "e3ae4c7c-f9b5-4a52-9552-d63ca7996200",
   "metadata": {},
   "outputs": [
    {
     "name": "stdout",
     "output_type": "stream",
     "text": [
      "+---------------+-----------+-----------+---------+-------------+-----------+------+--------------+-----------------+--------------------+-------------+-----------+--------------+------------+--------------+--------------------+--------------------+--------------+-------------+-----------------+---------------+----------+------------------+-------------------+--------------------+-------------+---------------+--------------+----------------+----------------+--------------------+--------------------+--------------+-------------+-----------------+---------------+----------+------------------+-------------------+--------------------+-------------+---------------+--------------+----------------+----------------+--------------------+--------------------+\n",
      "|Passport Number|Customer Id| First Name|Last Name|Date of Birth|Blood Group|Gender|Marital Status|  Education Level|             Address|         City|Postal Code|       Country|Country Code|  Phone Number|        Company Name|               Email|equ_First_Name|equ_Last_Name|equ_Date_of_Birth|equ_Blood_Group|equ_Gender|equ_Marital_Status|equ_Education_Level|         equ_Address|     equ_City|equ_Postal_Code|   equ_Country|equ_Country_Code|equ_Phone_Number|    equ_Company_Name|           equ_Email|dnb_First_Name|dnb_Last_Name|dnb_Date_of_Birth|dnb_Blood_Group|dnb_Gender|dnb_Marital_Status|dnb_Education_Level|         dnb_Address|     dnb_City|dnb_Postal_Code|   dnb_Country|dnb_Country_Code|dnb_Phone_Number|    dnb_Company_Name|           dnb_Email|\n",
      "+---------------+-----------+-----------+---------+-------------+-----------+------+--------------+-----------------+--------------------+-------------+-----------+--------------+------------+--------------+--------------------+--------------------+--------------+-------------+-----------------+---------------+----------+------------------+-------------------+--------------------+-------------+---------------+--------------+----------------+----------------+--------------------+--------------------+--------------+-------------+-----------------+---------------+----------+------------------+-------------------+--------------------+-------------+---------------+--------------+----------------+----------------+--------------------+--------------------+\n",
      "|013SHMCFKXQIT49| 3527218851|     Laurie|   Harris|   1978-04-16|         O-|Female|      divorced|  Master's Degree|1090 Kylie Prairi...|San Francisco|      20835| United States|          US| +1-8293517046|Lang  Kent and Wa...|laurie.harris@lan...|        Laurie|       Harris|       1978-04-16|             O-|         F|          divorced|    Master's Degree|149 Janet streets...|San Francisco|          01601| United States|              US|   +1-8293517046|Lang  Kent and Wa...|laurie.harris@lan...|        Laurie|       Harris|         78-04-16|             O-|    Female|          divorced|    Master's Degree|1090 Kylie Prairi...|San Francisco|          20835| United States|              US|   +1-8293517046|Lang  Kent and Wa...|laurie.harris@lan...|\n",
      "|017X4W6OM93AI5R| 4008289475|     Angela|    Sloan|   1981-06-17|         B-|Female|      divorced|      High School|773 Velazquez Sho...| Philadelphia|      61499| United States|          US| +1-1534826097|           Smith Inc|angela.sloan@smit...|        Angela|        Sloan|       1981-06-17|             B-|    Female|          divorced|                PhD|773 Velazquez Sho...|   Manchester|          61499| United States|              US|   +1-1534826097|           Smith Inc|angela.sloan@smit...|        Angela|        Sloan|       1981-06-17|             B-|         F|          divorced|        High School|773 Velazquez Sho...| Philadelphia|          61499| United States|              US|   +1-1534826097|           Smith Inc|angela.sloan@smit...|\n",
      "|01LQDXC4ZAB6SN3| 2639024928|    Rachael|    Perry|   1975-09-17|        AB-|Female|      divorced|Bachelor's Degree|4 Alexander heigh...|    Liverpool|    G78 5ZH|United Kingdom|          GB|+44-8290673415|Anderson  Allen a...|rachael.perry@and...|       Rachael|        Perry|       1975-09-17|            AB-|    Female|          divorced|  Bachelor's Degree|4 Alexander heigh...|    Liverpool|          56892|United Kingdom|              GB|  +44-8290673415|Anderson  Allen a...|rachael.perry@and...|       Rachael|        Perry|       1975-09-17|            AB-|    Female|          divorced|  Bachelor's Degree|4 Alexander heigh...|    Liverpool|        G78 5ZH|United Kingdom|              GB|  +44-8290673415|Anderson  Allen a...|rachael.perry@and...|\n",
      "|01N79FD36VPOY5E| 3628424370|  Stephanie|    Riley|   1962-12-01|         B-|Female|       married|  Master's Degree|07 Justin unions,...|    Doncaster|    S2G 4DH|United Kingdom|          GB|+44-8625037149|          Winter Inc|stephanie.riley@w...|     Stephanie|        Riley|       1962-12-01|             B-|    Female|           married|    Master's Degree|07 Justin unions,...|    Doncaster|        S2G 4DH|United Kingdom|              GB|  +44-2741608935|          Winter Inc|stephanie.riley@w...|     Stephanie|        Riley|       1962-12-01|             B-|         F|           married|    Master's Degree|07 Justin unions,...|    Doncaster|        S2G 4DH|United Kingdom|              GB|  +44-8625037149|          Winter Inc|stephanie.riley@w...|\n",
      "|01SB3A7LCHYPNO6| 7594609029|    Cameron|  Roberts|   2004-07-26|        AB+|  Male|        single|Bachelor's Degree|86 Bailey crest, ...|      Glasgow|     N7 4RF|United Kingdom|          GB|+44-3068157249|     Robinson Gibson|cameron.roberts@r...|       Cameron|      Roberts|       2004-07-26|            AB+|      Male|            single|  Bachelor's Degree|86 Bailey crest, ...|      Glasgow|         N7 4RF|United Kingdom|              GB|  +44-3068157249|     Robinson Gibson|cameron.roberts@r...|       Cameron|      Roberts|       2004-07-26|            AB+|      Male|            single|  Bachelor's Degree|86 Bailey crest, ...|      Glasgow|         N7 4RF|United Kingdom|              GB|  +44-3068157249|     Robinson Gibson|cameron.roberts@r...|\n",
      "|01V48WNZKBJO3XR| 7840389091|       Ross|    Brown|   1964-04-19|         O+|  Male|       married|              PhD|009 Scott Alley, ...|  San Antonio|      89654| United States|          US| +1-5947032618|Franco  Byrd and ...|ross.brown@franco...|          Ross|        Brown|       1964-04-19|             O+|      Male|           married|                PhD|009 Scott Alley, ...|  San Antonio|          59294| United States|              US|   +1-5947032618|Franco  Byrd and ...|ross.brown@franco...|          Ross|        Brown|       1964-04-19|             O+|      Male|           married|                PhD|009 Scott Alley, ...|  San Antonio|        TS3 8FW| United States|              US|   +1-5947032618|Franco  Byrd and ...|ross.brown@franco...|\n",
      "|01VH6TKRCU5IZ3D| 1226276620|      Karla|  Carlson|   1986-06-21|         O+|Female|       married|              PhD|996 Vaughn Villag...| Jacksonville|      43562| United States|          US| +1-8245796013|        Gonzalez Inc|karla.carlson@gon...|         Karla|      Carlson|       1986-06-21|             O+|    Female|           married|                PhD|996 Vaughn Villag...| Jacksonville|          43562| United States|              US|   +1-1567398402|        Gonzalez Inc|karla.carlson@gon...|         Karla|      Carlson|       1986-06-21|             O+|    Female|           married|                PhD|86419 Murphy Stat...| Jacksonville|          43562| United States|              US|   +1-8245796013|        Gonzalez Inc|karla.carlson@gon...|\n",
      "|029TQPGCEOSX4RM| 1911886183|       Marc|     Hunt|   1967-03-30|         A-|  Male|       married|              PhD|19 Glenn mill, Fl...|       London|   HD7V 6ES|United Kingdom|          GB|+44-0314257698|            Hill Ltd|marc.hunt@hillltd...|          Marc|         Hunt|         67-03-30|             A-|      Male|           married|                PhD|19 Glenn mill, Fl...|       London|       HD7V 6ES|United Kingdom|              GB|  +44-0314257698|            Hill Ltd|marc.hunt@hillltd...|          Marc|         Hunt|       1967-03-30|             A-|      Male|           married|                PhD|19 Glenn mill, Fl...|       London|       HD7V 6ES|United Kingdom|              GB|  +44-0314257698|            Hill Ltd|marc.hunt@hillltd...|\n",
      "|02FJOBMLDH3U5YT| 2855026273|      Renee|    Clark|   1995-05-06|        AB-|Female|        single|  Master's Degree|59503 Shane Squar...|       Boston|      56406| United States|          US| +1-2694807135|     Rojas Hernandez|renee.clark@rojas...|         Renee|        Clark|       1995-05-06|            AB-|    Female|            single|    Master's Degree|59503 Shane Squar...|       Boston|          56406| United States|              US|   +1-0362945178|     Rojas Hernandez|renee.clark@rojas...|         Renee|        Clark|       1995-05-06|            AB-|    Female|            single|    Master's Degree|59503 Shane Squar...|       Boston|          56406| United States|              US|   +1-2694807135|     Rojas Hernandez|renee.clark@rojas...|\n",
      "|02FQ6L9URKWPJBM| 9881965912|     Austin|    Price|   2004-06-09|         A-|  Male|        single|Bachelor's Degree|88645 Katherine P...|       Austin|      62573| United States|          US| +1-3184206957|Edwards  Anderson...|austin.price@edwa...|        Austin|        Price|       2004-06-09|             A-|      Male|            single|  Bachelor's Degree|88645 Katherine P...| Philadelphia|          81490| United States|              US|   +1-3184206957|Edwards  Anderson...|austin.price@edwa...|        Austin|        Price|       2004-06-09|             A-|      Male|            single|                PhD|88645 Katherine P...|       Austin|          62573| United States|              US|   +1-3184206957|Edwards  Anderson...|austin.price@edwa...|\n",
      "|02JLPIC9YE6DRU8| 3123270101|     Ashley|  Johnson|   1973-06-12|        AB+|Female|      divorced|  Master's Degree|0172 Zachary Keys...|      Phoenix|      36814| United States|          US| +1-1896235074|          Morris Fox|ashley.johnson@mo...|        Ashley|      Johnson|       1973-06-12|            AB+|    Female|          divorced|        High School|0172 Zachary Keys...|     New York|          36814| United States|              US|   +1-1896235074|          Morris Fox|ashley.johnson@mo...|        Ashley|      Johnson|       1973-06-12|            AB+|    Female|          divorced|    Master's Degree|0172 Zachary Keys...|      Phoenix|          36814| United States|              US|   +1-1896235074|          Morris Fox|ashley.johnson@mo...|\n",
      "|02NWQVPGL6AD53B| 9791061926|   Lorraine|    Berry|   1975-02-22|        AB-|Female|      divorced|  Master's Degree|37 Christine cree...|   Birmingham|   AL03 8EE|United Kingdom|          GB|+44-0547169823|Bryan  Thomas and...|lorraine.berry@br...|      Lorraine|        Berry|       1975-02-22|            AB-|    Female|          divorced|    Master's Degree|37 Christine cree...|   Birmingham|       AL03 8EE|United Kingdom|              GB|  +44-0547169823|Bryan  Thomas and...|lorraine.berry@br...|      Lorraine|        Berry|       1975-02-22|            AB-|         F|          divorced|    Master's Degree|27976 Sweeney Roa...|      Cardiff|       AL03 8EE|United Kingdom|              GB|  +44-0547169823|Bryan  Thomas and...|lorraine.berry@br...|\n",
      "|02P6E7ACB3SHJUT| 4655755917|       Josh|    Craig|   1976-02-29|         A+|  Male|      divorced|      High School|2 Barry points, F...|        Leeds|   WN13 4DE|United Kingdom|          GB|+44-3597486201|Ball  James and R...|josh.craig@ballja...|          Josh|        Craig|       1976-02-29|             A+|      Male|          divorced|  Bachelor's Degree|2 Barry points, F...|        Leeds|       CW85 5LH|United Kingdom|              GB|  +44-3597486201|Ball  James and R...|josh.craig@ballja...|          Josh|        Craig|       1976-02-29|             A+|      Male|          divorced|        High School|2 Barry points, F...|        Leeds|       WN13 4DE|United Kingdom|              GB|  +44-3597486201|Ball  James and R...|josh.craig@ballja...|\n",
      "|02PMSA94Y1TWGIB| 6097007323|    Jessica|    James|   2005-06-18|         B-|Female|        single|  Master's Degree|87 Jade glens, St...|      Bristol|   CT4M 1ES|United Kingdom|          GB|+44-6439108725|           Smith Inc|jessica.james@smi...|       Jessica|        James|       2005-06-18|             B-|    Female|            single|    Master's Degree|87 Jade glens, St...|       London|       CT4M 1ES|United Kingdom|              GB|   +1-5264789031|           Smith Inc|jessica.james@smi...|       Jessica|        James|       2005-06-18|             B-|    Female|            single|    Master's Degree|87 Jade glens, St...|      Bristol|       CT4M 1ES|United Kingdom|              GB|  +44-6092187534|           Smith Inc|jessica.james@smi...|\n",
      "|02X1WQM5CPZS6UD| 7050605008|      Emily|    Price|   1996-08-17|        AB-|Female|       married|Bachelor's Degree|603 Wilson Ford, ...|San Francisco|      65831| United States|          US| +1-7219834650|      Walton Walters|emily.price@walto...|         Emily|        Price|       1996-08-17|            AB-|    Female|           married|        High School|93198 Kenneth Hig...|San Francisco|          57739| United States|              US|   +1-7219834650|      Walton Walters|emily.price@walto...|         Emily|        Price|         96-08-17|            AB-|    Female|           married|  Bachelor's Degree|603 Wilson Ford, ...|San Francisco|          65831| United States|              US|   +1-7219834650|      Walton Walters|emily.price@walto...|\n",
      "|02YT1L864PUCKSV| 6513733796|       John|Jefferson|   1962-08-15|         A+|  Male|       widowed|              PhD|8089 Brown Courts...|     New York|      77696| United States|          US| +1-1740239685|Mcneil  Freeman a...|john.jefferson@mc...|          John|    Jefferson|         62-08-15|     A Positive|         M|           widowed|                PhD|8089 Brown Courts...|     New York|        G1W 5XD| United States|              US|   +1-4502768139|Mcneil  Freeman a...|john.jefferson@mc...|          John|    Jefferson|       1962-08-15|     A Positive|      Male|           widowed|                PhD|8089 Brown Courts...|   Birmingham|          77696| United States|              US|   +1-1740239685|Mcneil  Freeman a...|john.jefferson@mc...|\n",
      "|03SNI8249D7TEFQ| 1415779459|     Joseph|     Howe|   1976-04-27|         O+|  Male|      divorced|  Master's Degree|24 Jonathan squar...|      Cardiff|    N37 8FL|United Kingdom|          GB|+44-4251860397|Booth  Baker and ...|joseph.howe@booth...|        Joseph|         Howe|       1976-04-27|             O+|      Male|          divorced|  Bachelor's Degree|24 Jonathan squar...|      Cardiff|        N37 8FL|United Kingdom|              GB|  +44-4251860397|Booth  Baker and ...|joseph.howe@booth...|        Joseph|         Howe|       1976-04-27|             O+|      Male|          divorced|    Master's Degree|24 Jonathan squar...|      Cardiff|        N37 8FL|United Kingdom|              GB|  +44-4251860397|Booth  Baker and ...|joseph.howe@booth...|\n",
      "|03VA6LEKGHY5R1D| 8325326867|     Connie|      May|   1978-02-15|         O+|Female|       married|  Master's Degree|15990 Cochran Cor...|      Houston|      08875| United States|          US| +1-6587023194|       Martin Fisher|connie.may@martin...|        Connie|          May|       1978-02-15|             O+|    Female|           married|    Master's Degree|15990 Cochran Cor...|      Houston|          08875| United States|              US|   +1-6587023194|       Martin Fisher|connie.may@martin...|        Connie|          May|       1978-02-15|             O+|    Female|           married|                PhD|15990 Cochran Cor...|      Houston|       SP03 3XT| United States|              US|   +1-6587023194|       Martin Fisher|connie.may@martin...|\n",
      "|03ZILCS6K4REFN2| 4634435228|Christopher|   Akhtar|   1963-09-21|         A-|  Male|       widowed|              PhD|888 Tina meadow, ...|    Liverpool|    SN0 2TN|United Kingdom|          GB|+44-5389241067|Roberts  Wall and...|christopher.akhta...|   Christopher|       Akhtar|       1963-09-21|             A-|      Male|           widowed|                PhD|888 Tina meadow, ...|   Manchester|        SN0 2TN|United Kingdom|              GB|  +44-4192573680|Roberts  Wall and...|christopher.akhta...|   Christopher|       Akhtar|       1963-09-21|             A-|      Male|           widowed|                PhD|888 Tina meadow, ...|    Liverpool|        SN0 2TN|United Kingdom|              GB|  +44-5389241067|Roberts  Wall and...|christopher.akhta...|\n",
      "|03ZN6QGHF4EVK2X| 4383098397|      Janet|    Smith|   1988-03-02|        AB+|Female|        single|Bachelor's Degree|75 Max mill, Stud...|   Manchester|   CF2R 7RF|United Kingdom|          GB|+44-8651290473|      Saunders Yates|janet.smith@saund...|         Janet|        Smith|       1988-03-02|            AB+|         F|            single|        High School|75 Max mill, Stud...|   Manchester|       CF2R 7RF|United Kingdom|              GB|  +44-8651290473|      Saunders Yates|janet.smith@saund...|         Janet|        Smith|       1988-03-02|            AB+|    Female|            single|  Bachelor's Degree|95361 Michael Rid...|   Manchester|       CF2R 7RF|United Kingdom|              GB|  +44-8651290473|      Saunders Yates|janet.smith@saund...|\n",
      "+---------------+-----------+-----------+---------+-------------+-----------+------+--------------+-----------------+--------------------+-------------+-----------+--------------+------------+--------------+--------------------+--------------------+--------------+-------------+-----------------+---------------+----------+------------------+-------------------+--------------------+-------------+---------------+--------------+----------------+----------------+--------------------+--------------------+--------------+-------------+-----------------+---------------+----------+------------------+-------------------+--------------------+-------------+---------------+--------------+----------------+----------------+--------------------+--------------------+\n",
      "only showing top 20 rows\n",
      "\n"
     ]
    }
   ],
   "source": [
    "dr.show()\n"
   ]
  },
  {
   "cell_type": "code",
   "execution_count": 53,
   "id": "a2de5968-b581-4154-81b7-65e72ac31a28",
   "metadata": {},
   "outputs": [
    {
     "name": "stdout",
     "output_type": "stream",
     "text": [
      "root\n",
      " |-- Passport Number: string (nullable = true)\n",
      " |-- Customer Id: long (nullable = true)\n",
      " |-- First Name: string (nullable = true)\n",
      " |-- Last Name: string (nullable = true)\n",
      " |-- Date of Birth: date (nullable = true)\n",
      " |-- Blood Group: string (nullable = true)\n",
      " |-- Gender: string (nullable = true)\n",
      " |-- Marital Status: string (nullable = true)\n",
      " |-- Education Level: string (nullable = true)\n",
      " |-- Address: string (nullable = true)\n",
      " |-- City: string (nullable = true)\n",
      " |-- Postal Code: string (nullable = true)\n",
      " |-- Country: string (nullable = true)\n",
      " |-- Country Code: string (nullable = true)\n",
      " |-- Phone Number: string (nullable = true)\n",
      " |-- Company Name: string (nullable = true)\n",
      " |-- Email: string (nullable = true)\n",
      " |-- equ_First_Name: string (nullable = true)\n",
      " |-- equ_Last_Name: string (nullable = true)\n",
      " |-- equ_Date_of_Birth: string (nullable = true)\n",
      " |-- equ_Blood_Group: string (nullable = true)\n",
      " |-- equ_Gender: string (nullable = true)\n",
      " |-- equ_Marital_Status: string (nullable = true)\n",
      " |-- equ_Education_Level: string (nullable = true)\n",
      " |-- equ_Address: string (nullable = true)\n",
      " |-- equ_City: string (nullable = true)\n",
      " |-- equ_Postal_Code: string (nullable = true)\n",
      " |-- equ_Country: string (nullable = true)\n",
      " |-- equ_Country_Code: string (nullable = true)\n",
      " |-- equ_Phone_Number: string (nullable = true)\n",
      " |-- equ_Company_Name: string (nullable = true)\n",
      " |-- equ_Email: string (nullable = true)\n",
      " |-- dnb_First_Name: string (nullable = true)\n",
      " |-- dnb_Last_Name: string (nullable = true)\n",
      " |-- dnb_Date_of_Birth: string (nullable = true)\n",
      " |-- dnb_Blood_Group: string (nullable = true)\n",
      " |-- dnb_Gender: string (nullable = true)\n",
      " |-- dnb_Marital_Status: string (nullable = true)\n",
      " |-- dnb_Education_Level: string (nullable = true)\n",
      " |-- dnb_Address: string (nullable = true)\n",
      " |-- dnb_City: string (nullable = true)\n",
      " |-- dnb_Postal_Code: string (nullable = true)\n",
      " |-- dnb_Country: string (nullable = true)\n",
      " |-- dnb_Country_Code: string (nullable = true)\n",
      " |-- dnb_Phone_Number: string (nullable = true)\n",
      " |-- dnb_Company_Name: string (nullable = true)\n",
      " |-- dnb_Email: string (nullable = true)\n",
      "\n"
     ]
    }
   ],
   "source": [
    "dr.printSchema()"
   ]
  },
  {
   "cell_type": "code",
   "execution_count": 54,
   "id": "1e10e054-106f-4430-b6bf-52cd577934ff",
   "metadata": {},
   "outputs": [],
   "source": [
    "dr = dr.withColumn(\"max_length_First_Name_equ\", when(col(\"First Name\").isNotNull() & col(\"equ_First_Name\").isNotNull(),\n",
    "                                       greatest(length(col(\"First Name\")), length(col(\"equ_First_Name\"))))\n",
    "                                      .otherwise(lit(0)))"
   ]
  },
  {
   "cell_type": "code",
   "execution_count": 55,
   "id": "cd6dad1e-5937-44c4-a488-00fbbfabb025",
   "metadata": {},
   "outputs": [],
   "source": [
    "dr = dr.withColumn(\"levenshtein_distance_First_Name_equ\", levenshtein(col(\"First Name\"), col(\"equ_First_Name\")))"
   ]
  },
  {
   "cell_type": "code",
   "execution_count": 57,
   "id": "d2fef238-6efd-4dd6-b4e1-230d7ade0935",
   "metadata": {},
   "outputs": [],
   "source": [
    "dr = dr.withColumn(\"equ_match_FN\", \n",
    "                   (1 - (col(\"levenshtein_distance_First_Name_equ\") / col(\"max_length_First_Name_equ\"))) * 100)"
   ]
  },
  {
   "cell_type": "code",
   "execution_count": 58,
   "id": "ec435463-594f-4fd5-b09d-472d163836cd",
   "metadata": {},
   "outputs": [
    {
     "name": "stdout",
     "output_type": "stream",
     "text": [
      "+----------+--------------+------------+\n",
      "|First Name|equ_First_Name|equ_match_FN|\n",
      "+----------+--------------+------------+\n",
      "|Lacey     |Lacey         |100.0       |\n",
      "|Anthony   |Anthony       |100.0       |\n",
      "|Dean      |Dean          |100.0       |\n",
      "|David     |David         |100.0       |\n",
      "|Elizabeth |Elizabeth     |100.0       |\n",
      "|Dawn      |Dawn          |100.0       |\n",
      "|Paul      |Paul          |100.0       |\n",
      "|Janice    |Janice        |100.0       |\n",
      "|Douglas   |Douglas       |100.0       |\n",
      "|Mary      |Mary          |100.0       |\n",
      "|Jodie     |Jodie         |100.0       |\n",
      "|Mark      |Mark          |100.0       |\n",
      "|Charles   |Charles       |100.0       |\n",
      "|Declan    |Declan        |100.0       |\n",
      "|Robert    |Robert        |100.0       |\n",
      "|David     |David         |100.0       |\n",
      "|Colin     |Colin         |100.0       |\n",
      "|Dean      |Dean          |100.0       |\n",
      "|Lauren    |Lauren        |100.0       |\n",
      "|Rosemary  |Rosemary      |100.0       |\n",
      "+----------+--------------+------------+\n",
      "only showing top 20 rows\n",
      "\n"
     ]
    }
   ],
   "source": [
    "dr.select(\"First Name\", \"equ_First_Name\", \"equ_match_FN\").show(truncate=False)"
   ]
  },
  {
   "cell_type": "code",
   "execution_count": 63,
   "id": "328d279b-1276-4e10-ad24-99cf1ed2ef1e",
   "metadata": {},
   "outputs": [
    {
     "name": "stdout",
     "output_type": "stream",
     "text": [
      "+-----------+\n",
      "|Blood Group|\n",
      "+-----------+\n",
      "|        AB+|\n",
      "|         O+|\n",
      "|        AB-|\n",
      "|         A-|\n",
      "|         O-|\n",
      "|         B+|\n",
      "|         A+|\n",
      "|         B-|\n",
      "+-----------+\n",
      "\n"
     ]
    }
   ],
   "source": [
    "syn.select(\"Blood Group\").distinct().show()\n"
   ]
  },
  {
   "cell_type": "code",
   "execution_count": 76,
   "id": "9ee48c17-c19c-4833-824c-132ffa870a99",
   "metadata": {},
   "outputs": [
    {
     "name": "stdout",
     "output_type": "stream",
     "text": [
      "+---------------+\n",
      "|equ_Blood_Group|\n",
      "+---------------+\n",
      "|            AB+|\n",
      "|             O+|\n",
      "|            AB-|\n",
      "|             A-|\n",
      "|             O-|\n",
      "|             B+|\n",
      "|             A+|\n",
      "|             B-|\n",
      "+---------------+\n",
      "\n"
     ]
    }
   ],
   "source": [
    "equ.select(\"equ_Blood_Group\").distinct().show()"
   ]
  },
  {
   "cell_type": "code",
   "execution_count": 71,
   "id": "647ce6c8-a387-426d-90f3-883a7cadbfbf",
   "metadata": {},
   "outputs": [],
   "source": [
    "equ=equ.replace(\"A Positive\",\"A+\",subset=[\"equ_Blood_Group\"])"
   ]
  },
  {
   "cell_type": "code",
   "execution_count": 73,
   "id": "7c1f4e30-10c1-40ca-9fe1-09531a8e1992",
   "metadata": {},
   "outputs": [],
   "source": [
    "equ=equ.replace(\"A Negative\",\"A-\",subset=[\"equ_Blood_Group\"])"
   ]
  },
  {
   "cell_type": "code",
   "execution_count": 74,
   "id": "19ae199b-9f2e-4ddc-9116-3df8c4184c3a",
   "metadata": {},
   "outputs": [],
   "source": [
    "equ=equ.replace(\"B Positive\",\"B+\",subset=[\"equ_Blood_Group\"])"
   ]
  },
  {
   "cell_type": "code",
   "execution_count": 75,
   "id": "8963d03c-7a9d-4413-a328-06cfecfc012b",
   "metadata": {},
   "outputs": [],
   "source": [
    "equ=equ.replace(\"B Negative\",\"B-\",subset=[\"equ_Blood_Group\"])"
   ]
  },
  {
   "cell_type": "code",
   "execution_count": 84,
   "id": "6d9f3e33-7e5f-4057-bd65-a57d7f18ef58",
   "metadata": {},
   "outputs": [
    {
     "name": "stdout",
     "output_type": "stream",
     "text": [
      "+---------------+\n",
      "|dnb_Blood_Group|\n",
      "+---------------+\n",
      "|            AB+|\n",
      "|             O+|\n",
      "|            AB-|\n",
      "|             A-|\n",
      "|             O-|\n",
      "|             B+|\n",
      "|             A+|\n",
      "|             B-|\n",
      "+---------------+\n",
      "\n"
     ]
    }
   ],
   "source": [
    "dnb.select(\"dnb_Blood_Group\").distinct().show()"
   ]
  },
  {
   "cell_type": "code",
   "execution_count": 80,
   "id": "850a5ce9-c20e-4033-821f-feba32148035",
   "metadata": {},
   "outputs": [],
   "source": [
    "dnb=dnb.replace(\"A Positive\",\"A+\",subset=[\"dnb_Blood_Group\"])"
   ]
  },
  {
   "cell_type": "code",
   "execution_count": 81,
   "id": "4a439163-1640-45f3-bed0-e6daf12ece6b",
   "metadata": {},
   "outputs": [],
   "source": [
    "dnb=dnb.replace(\"B Positive\",\"B+\",subset=[\"dnb_Blood_Group\"])"
   ]
  },
  {
   "cell_type": "code",
   "execution_count": 82,
   "id": "6a895d39-3148-4c8f-976e-ed88d03b9b6f",
   "metadata": {},
   "outputs": [],
   "source": [
    "dnb=dnb.replace(\"A Negative\",\"A-\",subset=[\"dnb_Blood_Group\"])"
   ]
  },
  {
   "cell_type": "code",
   "execution_count": 83,
   "id": "b50e722e-53d6-441b-8b95-fd13340fe509",
   "metadata": {},
   "outputs": [],
   "source": [
    "dnb=dnb.replace(\"B Negative\",\"B-\",subset=[\"dnb_Blood_Group\"])"
   ]
  },
  {
   "cell_type": "code",
   "execution_count": 91,
   "id": "96836c93-e318-4ded-a2b2-6c607c2edbe5",
   "metadata": {},
   "outputs": [],
   "source": [
    "def fix_date_format(df):\n",
    "    for col_name in df.columns:\n",
    "        if col_name == \"Date of Birth\":\n",
    "            # Check if the column contains dates in \"yy-mm-dd\" format\n",
    "            if df.select(col(col_name).cast(\"string\").rlike(r\"^\\d{2}-\\d{2}-\\d{2}$\")).count() > 0:\n",
    "                # Add \"19\" to the beginning of the date strings\n",
    "                df = df.withColumn(col_name, \n",
    "                                   when(col(col_name).cast(\"string\").rlike(r\"^\\d{2}-\\d{2}-\\d{2}$\"), \n",
    "                                        19 + col(col_name))\n",
    "                                  .otherwise(col(col_name)))\n",
    "    return df"
   ]
  },
  {
   "cell_type": "code",
   "execution_count": 92,
   "id": "289db6bc-170a-483a-ac58-314b8083fc4f",
   "metadata": {},
   "outputs": [
    {
     "data": {
      "text/plain": [
       "DataFrame[Customer Id: bigint, Passport Number: string, First Name: string, Last Name: string, Date of Birth: date, Blood Group: string, Gender: string, Marital Status: string, Education Level: string, Address: string, City: string, Postal Code: string, Country: string, Country Code: string, Phone Number: string, Company Name: string, Email: string]"
      ]
     },
     "execution_count": 92,
     "metadata": {},
     "output_type": "execute_result"
    }
   ],
   "source": [
    "fix_date_format(syn)"
   ]
  },
  {
   "cell_type": "code",
   "execution_count": 93,
   "id": "294242fc-9500-4932-a5a0-ef9dde3e39cb",
   "metadata": {},
   "outputs": [
    {
     "name": "stdout",
     "output_type": "stream",
     "text": [
      "+-----------+---------------+----------+----------+-------------+-----------+------+--------------+-----------------+--------------------+-------------+-----------+--------------+------------+--------------+--------------------+--------------------+\n",
      "|Customer Id|Passport Number|First Name| Last Name|Date of Birth|Blood Group|Gender|Marital Status|  Education Level|             Address|         City|Postal Code|       Country|Country Code|  Phone Number|        Company Name|               Email|\n",
      "+-----------+---------------+----------+----------+-------------+-----------+------+--------------+-----------------+--------------------+-------------+-----------+--------------+------------+--------------+--------------------+--------------------+\n",
      "| 3728211145|35SEJI84WPXDGBF|     Lacey|   Charles|   1958-09-05|         O+|Female|       widowed|      High School|67969 Eddie Land,...|San Francisco|      19222| United States|          US| +1-3276914085|Walton  Decker an...|lacey.charles@wal...|\n",
      "| 9020302988|YPMLQ1AKG2T6H8R|   Anthony|      Hart|   1960-07-08|        AB+|  Male|       widowed|              PhD|053 Hamilton cros...|        Leeds|    W6K 9WA|United Kingdom|          GB|+44-3841609275|        Ferguson PLC|anthony.hart@ferg...|\n",
      "| 8674223212|65L8MFAJEGVQ3XN|      Dean|     Walsh|   1970-01-19|         O-|  Male|      divorced|      High School|23 Ian key, Studi...|      Bristol|     L2 6YS|United Kingdom|          GB|+44-2956730184|McDonald  Hawkins...|dean.walsh@mcdona...|\n",
      "| 6422849874|HXRLW79SA2C1ZN4|     David|    Wright|   1978-08-20|         O-|  Male|      divorced|              PhD|86626 Alicia Squa...|       Boston|      87398| United States|          US| +1-4269571308|          Hughes Ltd|david.wright@hugh...|\n",
      "| 9580306249|V48BL0EJOMNDGAH| Elizabeth|  Martinez|   1970-01-26|         O-|Female|       married|Bachelor's Degree|56114 Roger Traff...| Jacksonville|      26508| United States|          US| +1-1328654097|Rodriguez  Briggs...|elizabeth.martine...|\n",
      "| 2222675849|1GW92YQFKX5RD4L|      Dawn|    Wright|   1959-05-10|         O+|Female|       married|      High School|71 Norris knolls,...|    Liverpool|    N9G 6QQ|United Kingdom|          GB|+44-4627538109|Khan  Williams an...|dawn.wright@khanw...|\n",
      "| 2755763475|DUOY0AEJ3P7ZT12|      Paul|   Bennett|   1983-06-11|         A+|  Male|       married|      High School|925 Wilkerson Mou...|     Columbus|      97444| United States|          US| +1-2471593680|     Thompson Spears|paul.bennett@thom...|\n",
      "| 3631040460|R6IPB32QWOYZCNG|    Janice|    Watson|   1960-10-09|         O+|Female|       widowed|Bachelor's Degree|4 Frederick spurs...|    Sheffield|   KW62 9FR|United Kingdom|          GB|+44-2503869471|          Murray Ltd|janice.watson@mur...|\n",
      "| 1038026320|DZVXQR5EIFP428S|   Douglas|    Walker|   1999-02-13|        AB+|  Male|       married|Bachelor's Degree|644 Miller green,...|    Sheffield|    LA4 7TQ|United Kingdom|          GB|+44-3617850942|     Edwards Howells|douglas.walker@ed...|\n",
      "| 4635926225|6L1B5DAQHZ0M28U|      Mary|     Ortiz|   1967-02-04|         B-|Female|       married|Bachelor's Degree|96677 Garcia Bypa...|  San Antonio|      54073| United States|          US| +1-2967481530|        Harrison Ltd|mary.ortiz@harris...|\n",
      "| 5569941284|DY1G3IOJPAS5X4H|     Jodie|     Brown|   1969-12-01|        AB-|Female|       married|Bachelor's Degree|369 Michael lakes...|      Cardiff|    ST7 1GG|United Kingdom|          GB|+44-8604529173|          Day Cooper|jodie.brown@dayco...|\n",
      "| 8451690535|FOMGXZWCQE7TYIU|      Mark|    Molina|   1985-12-19|         B-|  Male|       married|              PhD|716 Stewart Parkw...| Philadelphia|      07398| United States|          US| +1-7063985412|Diaz  Yang and Ga...|mark.molina@diazy...|\n",
      "| 4604567629|KN4LM1WYO82E36T|   Charles|     Green|   1993-05-07|         O+|  Male|        single|              PhD|27 Colin ramp, Fl...|   Manchester|    L1F 7RE|United Kingdom|          GB|+44-9763214580|        Harrison Ltd|charles.green@har...|\n",
      "| 5993782536|29FD5TON6LG1PKY|    Declan|      Wood|   1968-04-28|        AB-|  Male|       married|      High School|3 Raymond mount, ...|        Leeds|    L9C 9BE|United Kingdom|          GB|+44-2916705483|         Perkins PLC|declan.wood@perki...|\n",
      "| 3980842793|SFHNEVX4LUJTDO3|    Robert|   Wallace|   1989-12-31|         A+|  Male|        single|  Master's Degree|0020 Soto Orchard...|     New York|      43184| United States|          US| +1-1659824037|Thompson  Reyes a...|robert.wallace@th...|\n",
      "| 1848174159|SB6GTYOF4CPW850|     David|   Serrano|   1962-10-01|        AB-|  Male|       widowed|Bachelor's Degree|019 Blackburn Gre...|    San Diego|      98602| United States|          US| +1-4918375062|         Coleman Inc|david.serrano@col...|\n",
      "| 4018467291|W4QCAK6I9G57HRU|     Colin|  Anderson|   1974-05-10|         O-|  Male|      divorced|Bachelor's Degree|98 Harris springs...|      Cardiff|    NP4 9FN|United Kingdom|          GB|+44-1376482059|        Mitchell LLC|colin.anderson@mi...|\n",
      "| 3366374603|QA719WKG68ORCL3|      Dean|    Harris|   1991-07-01|         O-|  Male|       married|  Master's Degree|66 Jennifer strav...|       London|   KT54 9QR|United Kingdom|          GB|+44-7109452386|        Hardy Powell|dean.harris@hardy...|\n",
      "| 1705571855|JFEKV41TXD3G56N|    Lauren|    Obrien|   1966-09-13|         A-|Female|      divorced|Bachelor's Degree|1752 Joseph Gatew...|      Phoenix|      69069| United States|          US| +1-3960182574|           Moore PLC|lauren.obrien@moo...|\n",
      "| 4807960622|RLDQPXJ03SM27EH|  Rosemary|Hutchinson|   2004-04-22|        AB+|Female|        single|Bachelor's Degree|026 Bennett stree...|      Cardiff|    OL9 7ZH|United Kingdom|          GB|+44-4869150327|Richardson  Reyno...|rosemary.hutchins...|\n",
      "+-----------+---------------+----------+----------+-------------+-----------+------+--------------+-----------------+--------------------+-------------+-----------+--------------+------------+--------------+--------------------+--------------------+\n",
      "only showing top 20 rows\n",
      "\n"
     ]
    }
   ],
   "source": [
    "syn.show()"
   ]
  },
  {
   "cell_type": "code",
   "execution_count": 104,
   "id": "26ea1366-031c-4cc0-988e-08b6b081cb72",
   "metadata": {},
   "outputs": [
    {
     "name": "stdout",
     "output_type": "stream",
     "text": [
      "+----------+\n",
      "|dnb_Gender|\n",
      "+----------+\n",
      "|    Female|\n",
      "|      Male|\n",
      "+----------+\n",
      "\n"
     ]
    }
   ],
   "source": [
    "dnb.select(\"dnb_Gender\").distinct().show()\n"
   ]
  },
  {
   "cell_type": "code",
   "execution_count": 102,
   "id": "829f59e4-5d47-400e-b796-9b0a8eefcc06",
   "metadata": {},
   "outputs": [],
   "source": [
    "dnb=dnb.replace(\"M\",\"Male\",subset=[\"dnb_Gender\"])"
   ]
  },
  {
   "cell_type": "code",
   "execution_count": 103,
   "id": "fb43ff3c-ca66-47c2-8559-fe1f3998a631",
   "metadata": {},
   "outputs": [],
   "source": [
    "dnb=dnb.replace(\"F\",\"Female\",subset=[\"dnb_Gender\"])"
   ]
  },
  {
   "cell_type": "code",
   "execution_count": 105,
   "id": "e9cf381d-a85f-4403-9558-02dc9dfccd4a",
   "metadata": {},
   "outputs": [
    {
     "data": {
      "text/plain": [
       "DataFrame[Passport Number: string, equ_First_Name: string, equ_Last_Name: string, equ_Date_of_Birth: string, equ_Blood_Group: string, equ_Gender: string, equ_Marital_Status: string, equ_Education_Level: string, equ_Address: string, equ_City: string, equ_Postal_Code: string, equ_Country: string, equ_Country_Code: string, equ_Phone_Number: string, equ_Company_Name: string, equ_Email: string]"
      ]
     },
     "execution_count": 105,
     "metadata": {},
     "output_type": "execute_result"
    }
   ],
   "source": [
    "fix_date_format(equ)"
   ]
  },
  {
   "cell_type": "code",
   "execution_count": 106,
   "id": "b479b726-1554-4c1e-9508-6974a2245f61",
   "metadata": {},
   "outputs": [
    {
     "data": {
      "text/plain": [
       "DataFrame[Passport Number: string, dnb_First_Name: string, dnb_Last_Name: string, dnb_Date_of_Birth: string, dnb_Blood_Group: string, dnb_Gender: string, dnb_Marital_Status: string, dnb_Education_Level: string, dnb_Address: string, dnb_City: string, dnb_Postal_Code: string, dnb_Country: string, dnb_Country_Code: string, dnb_Phone_Number: string, dnb_Company_Name: string, dnb_Email: string]"
      ]
     },
     "execution_count": 106,
     "metadata": {},
     "output_type": "execute_result"
    }
   ],
   "source": [
    "fix_date_format(dnb)"
   ]
  },
  {
   "cell_type": "code",
   "execution_count": 109,
   "id": "b8604fa2-8479-4d69-add1-a64c2d2b802f",
   "metadata": {},
   "outputs": [
    {
     "name": "stdout",
     "output_type": "stream",
     "text": [
      "+------------------+\n",
      "|equ_Marital_Status|\n",
      "+------------------+\n",
      "|          divorced|\n",
      "|           married|\n",
      "|            single|\n",
      "|           widowed|\n",
      "+------------------+\n",
      "\n"
     ]
    }
   ],
   "source": [
    "\n"
   ]
  },
  {
   "cell_type": "code",
   "execution_count": 126,
   "id": "ef237cc9-5ba6-479d-a773-e7aca4180958",
   "metadata": {},
   "outputs": [],
   "source": [
    "\n",
    "\n",
    "def compare_columns(df, column1, column2):\n",
    "    # Generate a unique name for the comparison result column\n",
    "    comparison_name = f\"match%_{column2}\"\n",
    "\n",
    "    # Calculate the maximum length of the two columns\n",
    "    max_length_column1_column2 = df.withColumn(comparison_name + \"_max_length\",\n",
    "                                               greatest(length(col(column1)), length(col(column2))))\n",
    "\n",
    "    # Calculate the Levenshtein distance between the two columns\n",
    "    df_with_levenshtein = max_length_column1_column2.withColumn(comparison_name + \"_levenshtein_distance\",\n",
    "                                                                levenshtein(col(column1), col(column2)))\n",
    "\n",
    "    # Calculate the percentage match\n",
    "    df_with_percentage_match = df_with_levenshtein.withColumn(comparison_name + \"_match_percentage\",\n",
    "                                                              (1 - (col(comparison_name + \"_levenshtein_distance\") /\n",
    "                                                                     col(comparison_name + \"_max_length\"))) * 100)\n",
    "    \n",
    "\n",
    "    return df_with_percentage_match\n",
    "\n",
    "# Example usage:\n",
    "# df = your DataFrame\n",
    "# new_df = compare_columns(df, \"First Name\", \"equ_First_Name\")\n",
    "# new_df.show()\n"
   ]
  },
  {
   "cell_type": "code",
   "execution_count": 138,
   "id": "ec964675-cb1d-48dc-800e-796b52d99fcf",
   "metadata": {},
   "outputs": [
    {
     "name": "stdout",
     "output_type": "stream",
     "text": [
      "root\n",
      " |-- Passport Number: string (nullable = true)\n",
      " |-- Customer Id: long (nullable = true)\n",
      " |-- First Name: string (nullable = true)\n",
      " |-- Last Name: string (nullable = true)\n",
      " |-- Date of Birth: date (nullable = true)\n",
      " |-- Blood Group: string (nullable = true)\n",
      " |-- Gender: string (nullable = true)\n",
      " |-- Marital Status: string (nullable = true)\n",
      " |-- Education Level: string (nullable = true)\n",
      " |-- Address: string (nullable = true)\n",
      " |-- City: string (nullable = true)\n",
      " |-- Postal Code: string (nullable = true)\n",
      " |-- Country: string (nullable = true)\n",
      " |-- Country Code: string (nullable = true)\n",
      " |-- Phone Number: string (nullable = true)\n",
      " |-- Company Name: string (nullable = true)\n",
      " |-- Email: string (nullable = true)\n",
      " |-- equ_First_Name: string (nullable = true)\n",
      " |-- equ_Last_Name: string (nullable = true)\n",
      " |-- equ_Date_of_Birth: string (nullable = true)\n",
      " |-- equ_Blood_Group: string (nullable = true)\n",
      " |-- equ_Gender: string (nullable = true)\n",
      " |-- equ_Marital_Status: string (nullable = true)\n",
      " |-- equ_Education_Level: string (nullable = true)\n",
      " |-- equ_Address: string (nullable = true)\n",
      " |-- equ_City: string (nullable = true)\n",
      " |-- equ_Postal_Code: string (nullable = true)\n",
      " |-- equ_Country: string (nullable = true)\n",
      " |-- equ_Country_Code: string (nullable = true)\n",
      " |-- equ_Phone_Number: string (nullable = true)\n",
      " |-- equ_Company_Name: string (nullable = true)\n",
      " |-- equ_Email: string (nullable = true)\n",
      " |-- dnb_First_Name: string (nullable = true)\n",
      " |-- dnb_Last_Name: string (nullable = true)\n",
      " |-- dnb_Date_of_Birth: string (nullable = true)\n",
      " |-- dnb_Blood_Group: string (nullable = true)\n",
      " |-- dnb_Gender: string (nullable = true)\n",
      " |-- dnb_Marital_Status: string (nullable = true)\n",
      " |-- dnb_Education_Level: string (nullable = true)\n",
      " |-- dnb_Address: string (nullable = true)\n",
      " |-- dnb_City: string (nullable = true)\n",
      " |-- dnb_Postal_Code: string (nullable = true)\n",
      " |-- dnb_Country: string (nullable = true)\n",
      " |-- dnb_Country_Code: string (nullable = true)\n",
      " |-- dnb_Phone_Number: string (nullable = true)\n",
      " |-- dnb_Company_Name: string (nullable = true)\n",
      " |-- dnb_Email: string (nullable = true)\n",
      " |-- max_length_First_Name_equ: integer (nullable = true)\n",
      " |-- levenshtein_distance_First_Name_equ: integer (nullable = true)\n",
      " |-- equ_match_FN: double (nullable = true)\n",
      " |-- match%_equ_First_Name_max_length: integer (nullable = true)\n",
      " |-- match%_equ_First_Name_levenshtein_distance: integer (nullable = true)\n",
      " |-- match%_equ_First_Name_match_percentage: double (nullable = true)\n",
      " |-- match%_dnb_First_Name_max_length: integer (nullable = true)\n",
      " |-- match%_dnb_First_Name_levenshtein_distance: integer (nullable = true)\n",
      " |-- match%_dnb_First_Name_match_percentage: double (nullable = true)\n",
      "\n"
     ]
    }
   ],
   "source": [
    "dr = compare_columns(dr, \"First Name\", \"dnb_First_Name\")\n",
    "dr.printSchema()"
   ]
  },
  {
   "cell_type": "code",
   "execution_count": 139,
   "id": "732889ab-522c-4d87-8767-3e51e5439b05",
   "metadata": {},
   "outputs": [
    {
     "name": "stdout",
     "output_type": "stream",
     "text": [
      "+----------+--------------+--------------+--------------------------------------+--------------------------------------+\n",
      "|First Name|equ_First_Name|dnb_First_Name|match%_equ_First_Name_match_percentage|match%_dnb_First_Name_match_percentage|\n",
      "+----------+--------------+--------------+--------------------------------------+--------------------------------------+\n",
      "|     Lacey|         Lacey|         Lacey|                                 100.0|                                 100.0|\n",
      "|   Anthony|       Anthony|       Anthony|                                 100.0|                                 100.0|\n",
      "|      Dean|          Dean|          Dean|                                 100.0|                                 100.0|\n",
      "|     David|         David|         David|                                 100.0|                                 100.0|\n",
      "| Elizabeth|     Elizabeth|     Elizabeth|                                 100.0|                                 100.0|\n",
      "|      Dawn|          Dawn|          Dawn|                                 100.0|                                 100.0|\n",
      "|      Paul|          Paul|          Paul|                                 100.0|                                 100.0|\n",
      "|    Janice|        Janice|        Janice|                                 100.0|                                 100.0|\n",
      "|   Douglas|       Douglas|       Douglas|                                 100.0|                                 100.0|\n",
      "|      Mary|          Mary|          Mary|                                 100.0|                                 100.0|\n",
      "|     Jodie|         Jodie|         Jodie|                                 100.0|                                 100.0|\n",
      "|      Mark|          Mark|          Mark|                                 100.0|                                 100.0|\n",
      "|   Charles|       Charles|       Charles|                                 100.0|                                 100.0|\n",
      "|    Declan|        Declan|        Declan|                                 100.0|                                 100.0|\n",
      "|    Robert|        Robert|        Robert|                                 100.0|                                 100.0|\n",
      "|     David|         David|         David|                                 100.0|                                 100.0|\n",
      "|     Colin|         Colin|         Colin|                                 100.0|                                 100.0|\n",
      "|      Dean|          Dean|          Dean|                                 100.0|                                 100.0|\n",
      "|    Lauren|        Lauren|        Lauren|                                 100.0|                                 100.0|\n",
      "|  Rosemary|      Rosemary|      Rosemary|                                 100.0|                                 100.0|\n",
      "+----------+--------------+--------------+--------------------------------------+--------------------------------------+\n",
      "only showing top 20 rows\n",
      "\n"
     ]
    }
   ],
   "source": [
    "dr.select(\"First Name\", \"equ_First_Name\",\"dnb_First_Name\",\"match%_equ_First_Name_match_percentage\",\"match%_dnb_First_Name_match_percentage\").show()"
   ]
  },
  {
   "cell_type": "code",
   "execution_count": 156,
   "id": "724bc6f6-ec75-4be4-ad7d-fe4f834e194f",
   "metadata": {},
   "outputs": [
    {
     "name": "stdout",
     "output_type": "stream",
     "text": [
      "root\n",
      " |-- Passport Number: string (nullable = true)\n",
      " |-- Customer Id: long (nullable = true)\n",
      " |-- First Name: string (nullable = true)\n",
      " |-- Last Name: string (nullable = true)\n",
      " |-- Date of Birth: date (nullable = true)\n",
      " |-- Blood Group: string (nullable = true)\n",
      " |-- Gender: string (nullable = true)\n",
      " |-- Marital Status: string (nullable = true)\n",
      " |-- Education Level: string (nullable = true)\n",
      " |-- Address: string (nullable = true)\n",
      " |-- City: string (nullable = true)\n",
      " |-- Postal Code: string (nullable = true)\n",
      " |-- Country: string (nullable = true)\n",
      " |-- Country Code: string (nullable = true)\n",
      " |-- Phone Number: string (nullable = true)\n",
      " |-- Company Name: string (nullable = true)\n",
      " |-- Email: string (nullable = true)\n",
      " |-- equ_First_Name: string (nullable = true)\n",
      " |-- equ_Last_Name: string (nullable = true)\n",
      " |-- equ_Date_of_Birth: string (nullable = true)\n",
      " |-- equ_Blood_Group: string (nullable = true)\n",
      " |-- equ_Gender: string (nullable = true)\n",
      " |-- equ_Marital_Status: string (nullable = true)\n",
      " |-- equ_Education_Level: string (nullable = true)\n",
      " |-- equ_Address: string (nullable = true)\n",
      " |-- equ_City: string (nullable = true)\n",
      " |-- equ_Postal_Code: string (nullable = true)\n",
      " |-- equ_Country: string (nullable = true)\n",
      " |-- equ_Country_Code: string (nullable = true)\n",
      " |-- equ_Phone_Number: string (nullable = true)\n",
      " |-- equ_Company_Name: string (nullable = true)\n",
      " |-- equ_Email: string (nullable = true)\n",
      " |-- dnb_First_Name: string (nullable = true)\n",
      " |-- dnb_Last_Name: string (nullable = true)\n",
      " |-- dnb_Date_of_Birth: string (nullable = true)\n",
      " |-- dnb_Blood_Group: string (nullable = true)\n",
      " |-- dnb_Gender: string (nullable = true)\n",
      " |-- dnb_Marital_Status: string (nullable = true)\n",
      " |-- dnb_Education_Level: string (nullable = true)\n",
      " |-- dnb_Address: string (nullable = true)\n",
      " |-- dnb_City: string (nullable = true)\n",
      " |-- dnb_Postal_Code: string (nullable = true)\n",
      " |-- dnb_Country: string (nullable = true)\n",
      " |-- dnb_Country_Code: string (nullable = true)\n",
      " |-- dnb_Phone_Number: string (nullable = true)\n",
      " |-- dnb_Company_Name: string (nullable = true)\n",
      " |-- dnb_Email: string (nullable = true)\n",
      " |-- max_length_First_Name_equ: integer (nullable = true)\n",
      " |-- levenshtein_distance_First_Name_equ: integer (nullable = true)\n",
      " |-- equ_match_FN: double (nullable = true)\n",
      " |-- match%_equ_First_Name_max_length: integer (nullable = true)\n",
      " |-- match%_equ_First_Name_levenshtein_distance: integer (nullable = true)\n",
      " |-- match%_equ_First_Name_match_percentage: double (nullable = true)\n",
      " |-- match%_dnb_First_Name_max_length: integer (nullable = true)\n",
      " |-- match%_dnb_First_Name_levenshtein_distance: integer (nullable = true)\n",
      " |-- match%_dnb_First_Name_match_percentage: double (nullable = true)\n",
      " |-- match%_equ_Last_Name_max_length: integer (nullable = true)\n",
      " |-- match%_equ_Last_Name_levenshtein_distance: integer (nullable = true)\n",
      " |-- match%_equ_Last_Name_match_percentage: double (nullable = true)\n",
      "\n"
     ]
    }
   ],
   "source": [
    "dr = compare_columns(dr, \"Last Name\", \"equ_Last_Name\")\n",
    "dr.printSchema()"
   ]
  },
  {
   "cell_type": "code",
   "execution_count": 227,
   "id": "c3c9ce4f-df2b-442c-ab32-b1dbd07d6c22",
   "metadata": {},
   "outputs": [],
   "source": [
    "detail_report=dr.select(\"First Name\", \"equ_First_Name\",\"dnb_First_Name\",\"match%_equ_First_Name_match_percentage\",\"match%_dnb_First_Name_match_percentage\",\"Last Name\", \"equ_Last_Name\",\"dnb_Last_Name\",\"match%_equ_Last_Name_match_percentage\",\"match%_dnb_Last_Name_match_percentage\",\"Date of Birth\", \"equ_Date_of_Birth\",\"dnb_Date_of_Birth\",\"match%_equ_Date_of_Birth_match_percentage\",\"match%_dnb_Date_of_Birth_match_percentage\",\"Blood Group\", \"equ_Blood_Group\",\"dnb_Blood_Group\",\"match%_equ_Blood_Group_match_percentage\",\"match%_dnb_Blood_Group_match_percentage\",\"Gender\", \"equ_Gender\",\"dnb_Gender\",\"match%_equ_Gender_match_percentage\",\"match%_dnb_Gender_match_percentage\",\"Marital Status\", \"equ_Marital_Status\",\"dnb_Marital_Status\",\"match%_equ_Marital_Status_match_percentage\",\"match%_dnb_Marital_Status_match_percentage\",\"Education Level\", \"equ_Education_Level\",\"dnb_Education_Level\",\"match%_equ_Education_Level_match_percentage\",\"match%_dnb_Education_Level_match_percentage\",\"Address\", \"equ_Address\",\"dnb_Address\",\"match%_equ_Address_match_percentage\",\"match%_dnb_Address_match_percentage\",\"City\", \"equ_City\", \"dnb_City\",\"match%_equ_City_match_percentage\",\"match%_dnb_City_match_percentage\",\"Postal Code\", \"equ_Postal_Code\",\"dnb_Postal_Code\",\"match%_equ_Postal_Code_match_percentage\",\"match%_dnb_Postal_Code_match_percentage\",\"Country\", \"equ_Country\",\"dnb_Country\",\"match%_equ_Country_match_percentage\",\"match%_dnb_Country_match_percentage\",\"Country Code\", \"equ_Country_Code\", \"dnb_Country_Code\",\"match%_equ_Country_Code_match_percentage\",\"match%_dnb_Country_Code_match_percentage\",\"Phone Number\", \"equ_Phone_Number\",\"dnb_Phone_Number\",\"match%_equ_Phone_Number_match_percentage\",\"match%_dnb_Phone_Number_match_percentage\",\"Company Name\", \"equ_Company_Name\", \"dnb_Company_Name\",\"match%_equ_Company_Name_match_percentage\",\"match%_dnb_Company_Name_match_percentage\",\"Email\", \"equ_Email\", \"dnb_Email\",\"match%_equ_Email_match_percentage\",\"match%_dnb_Email_match_percentage\")"
   ]
  },
  {
   "cell_type": "code",
   "execution_count": 225,
   "id": "a4431a9c-4cb4-4a12-9d1c-474316d6a88e",
   "metadata": {},
   "outputs": [
    {
     "name": "stdout",
     "output_type": "stream",
     "text": [
      "root\n",
      " |-- Passport Number: string (nullable = true)\n",
      " |-- Customer Id: long (nullable = true)\n",
      " |-- First Name: string (nullable = true)\n",
      " |-- Last Name: string (nullable = true)\n",
      " |-- Date of Birth: date (nullable = true)\n",
      " |-- Blood Group: string (nullable = true)\n",
      " |-- Gender: string (nullable = true)\n",
      " |-- Marital Status: string (nullable = true)\n",
      " |-- Education Level: string (nullable = true)\n",
      " |-- Address: string (nullable = true)\n",
      " |-- City: string (nullable = true)\n",
      " |-- Postal Code: string (nullable = true)\n",
      " |-- Country: string (nullable = true)\n",
      " |-- Country Code: string (nullable = true)\n",
      " |-- Phone Number: string (nullable = true)\n",
      " |-- Company Name: string (nullable = true)\n",
      " |-- Email: string (nullable = true)\n",
      " |-- equ_First_Name: string (nullable = true)\n",
      " |-- equ_Last_Name: string (nullable = true)\n",
      " |-- equ_Date_of_Birth: string (nullable = true)\n",
      " |-- equ_Blood_Group: string (nullable = true)\n",
      " |-- equ_Gender: string (nullable = true)\n",
      " |-- equ_Marital_Status: string (nullable = true)\n",
      " |-- equ_Education_Level: string (nullable = true)\n",
      " |-- equ_Address: string (nullable = true)\n",
      " |-- equ_City: string (nullable = true)\n",
      " |-- equ_Postal_Code: string (nullable = true)\n",
      " |-- equ_Country: string (nullable = true)\n",
      " |-- equ_Country_Code: string (nullable = true)\n",
      " |-- equ_Phone_Number: string (nullable = true)\n",
      " |-- equ_Company_Name: string (nullable = true)\n",
      " |-- equ_Email: string (nullable = true)\n",
      " |-- dnb_First_Name: string (nullable = true)\n",
      " |-- dnb_Last_Name: string (nullable = true)\n",
      " |-- dnb_Date_of_Birth: string (nullable = true)\n",
      " |-- dnb_Blood_Group: string (nullable = true)\n",
      " |-- dnb_Gender: string (nullable = true)\n",
      " |-- dnb_Marital_Status: string (nullable = true)\n",
      " |-- dnb_Education_Level: string (nullable = true)\n",
      " |-- dnb_Address: string (nullable = true)\n",
      " |-- dnb_City: string (nullable = true)\n",
      " |-- dnb_Postal_Code: string (nullable = true)\n",
      " |-- dnb_Country: string (nullable = true)\n",
      " |-- dnb_Country_Code: string (nullable = true)\n",
      " |-- dnb_Phone_Number: string (nullable = true)\n",
      " |-- dnb_Company_Name: string (nullable = true)\n",
      " |-- dnb_Email: string (nullable = true)\n",
      " |-- max_length_First_Name_equ: integer (nullable = true)\n",
      " |-- levenshtein_distance_First_Name_equ: integer (nullable = true)\n",
      " |-- equ_match_FN: double (nullable = true)\n",
      " |-- match%_equ_First_Name_max_length: integer (nullable = true)\n",
      " |-- match%_equ_First_Name_levenshtein_distance: integer (nullable = true)\n",
      " |-- match%_equ_First_Name_match_percentage: double (nullable = true)\n",
      " |-- match%_dnb_First_Name_max_length: integer (nullable = true)\n",
      " |-- match%_dnb_First_Name_levenshtein_distance: integer (nullable = true)\n",
      " |-- match%_dnb_First_Name_match_percentage: double (nullable = true)\n",
      " |-- match%_equ_Last_Name_max_length: integer (nullable = true)\n",
      " |-- match%_equ_Last_Name_levenshtein_distance: integer (nullable = true)\n",
      " |-- match%_equ_Last_Name_match_percentage: double (nullable = true)\n",
      " |-- match%_dnb_Last_Name_max_length: integer (nullable = true)\n",
      " |-- match%_dnb_Last_Name_levenshtein_distance: integer (nullable = true)\n",
      " |-- match%_dnb_Last_Name_match_percentage: double (nullable = true)\n",
      " |-- match%_equ_Date_of_Birth_max_length: integer (nullable = true)\n",
      " |-- match%_equ_Date_of_Birth_levenshtein_distance: integer (nullable = true)\n",
      " |-- match%_equ_Date_of_Birth_match_percentage: double (nullable = true)\n",
      " |-- match%_dnb_Date_of_Birth_max_length: integer (nullable = true)\n",
      " |-- match%_dnb_Date_of_Birth_levenshtein_distance: integer (nullable = true)\n",
      " |-- match%_dnb_Date_of_Birth_match_percentage: double (nullable = true)\n",
      " |-- match%_equ_Blood_Group_max_length: integer (nullable = true)\n",
      " |-- match%_equ_Blood_Group_levenshtein_distance: integer (nullable = true)\n",
      " |-- match%_equ_Blood_Group_match_percentage: double (nullable = true)\n",
      " |-- match%_dnb_Blood_Group_max_length: integer (nullable = true)\n",
      " |-- match%_dnb_Blood_Group_levenshtein_distance: integer (nullable = true)\n",
      " |-- match%_dnb_Blood_Group_match_percentage: double (nullable = true)\n",
      " |-- match%_equ_Gender_max_length: integer (nullable = true)\n",
      " |-- match%_equ_Gender_levenshtein_distance: integer (nullable = true)\n",
      " |-- match%_equ_Gender_match_percentage: double (nullable = true)\n",
      " |-- match%_dnb_Gender_max_length: integer (nullable = true)\n",
      " |-- match%_dnb_Gender_levenshtein_distance: integer (nullable = true)\n",
      " |-- match%_dnb_Gender_match_percentage: double (nullable = true)\n",
      " |-- match%_equ_Marital_Status_max_length: integer (nullable = true)\n",
      " |-- match%_equ_Marital_Status_levenshtein_distance: integer (nullable = true)\n",
      " |-- match%_equ_Marital_Status_match_percentage: double (nullable = true)\n",
      " |-- match%_dnb_Marital_Status_max_length: integer (nullable = true)\n",
      " |-- match%_dnb_Marital_Status_levenshtein_distance: integer (nullable = true)\n",
      " |-- match%_dnb_Marital_Status_match_percentage: double (nullable = true)\n",
      " |-- match%_equ_Education_Level_max_length: integer (nullable = true)\n",
      " |-- match%_equ_Education_Level_levenshtein_distance: integer (nullable = true)\n",
      " |-- match%_equ_Education_Level_match_percentage: double (nullable = true)\n",
      " |-- match%_dnb_Education_Level_max_length: integer (nullable = true)\n",
      " |-- match%_dnb_Education_Level_levenshtein_distance: integer (nullable = true)\n",
      " |-- match%_dnb_Education_Level_match_percentage: double (nullable = true)\n",
      " |-- match%_equ_Address_max_length: integer (nullable = true)\n",
      " |-- match%_equ_Address_levenshtein_distance: integer (nullable = true)\n",
      " |-- match%_equ_Address_match_percentage: double (nullable = true)\n",
      " |-- match%_dnb_Address_max_length: integer (nullable = true)\n",
      " |-- match%_dnb_Address_levenshtein_distance: integer (nullable = true)\n",
      " |-- match%_dnb_Address_match_percentage: double (nullable = true)\n",
      " |-- match%_equ_City_max_length: integer (nullable = true)\n",
      " |-- match%_equ_City_levenshtein_distance: integer (nullable = true)\n",
      " |-- match%_equ_City_match_percentage: double (nullable = true)\n",
      " |-- match%_dnb_City_max_length: integer (nullable = true)\n",
      " |-- match%_dnb_City_levenshtein_distance: integer (nullable = true)\n",
      " |-- match%_dnb_City_match_percentage: double (nullable = true)\n",
      " |-- match%_equ_Postal_Code_max_length: integer (nullable = true)\n",
      " |-- match%_equ_Postal_Code_levenshtein_distance: integer (nullable = true)\n",
      " |-- match%_equ_Postal_Code_match_percentage: double (nullable = true)\n",
      " |-- match%_dnb_Postal_Code_max_length: integer (nullable = true)\n",
      " |-- match%_dnb_Postal_Code_levenshtein_distance: integer (nullable = true)\n",
      " |-- match%_dnb_Postal_Code_match_percentage: double (nullable = true)\n",
      " |-- match%_equ_Country_max_length: integer (nullable = true)\n",
      " |-- match%_equ_Country_levenshtein_distance: integer (nullable = true)\n",
      " |-- match%_equ_Country_match_percentage: double (nullable = true)\n",
      " |-- match%_dnb_Country_max_length: integer (nullable = true)\n",
      " |-- match%_dnb_Country_levenshtein_distance: integer (nullable = true)\n",
      " |-- match%_dnb_Country_match_percentage: double (nullable = true)\n",
      " |-- match%_equ_Country_Code_max_length: integer (nullable = true)\n",
      " |-- match%_equ_Country_Code_levenshtein_distance: integer (nullable = true)\n",
      " |-- match%_equ_Country_Code_match_percentage: double (nullable = true)\n",
      " |-- match%_dnb_Country_Code_max_length: integer (nullable = true)\n",
      " |-- match%_dnb_Country_Code_levenshtein_distance: integer (nullable = true)\n",
      " |-- match%_dnb_Country_Code_match_percentage: double (nullable = true)\n",
      " |-- match%_equ_Phone_Number_max_length: integer (nullable = true)\n",
      " |-- match%_equ_Phone_Number_levenshtein_distance: integer (nullable = true)\n",
      " |-- match%_equ_Phone_Number_match_percentage: double (nullable = true)\n",
      " |-- match%_dnb_Phone_Number_max_length: integer (nullable = true)\n",
      " |-- match%_dnb_Phone_Number_levenshtein_distance: integer (nullable = true)\n",
      " |-- match%_dnb_Phone_Number_match_percentage: double (nullable = true)\n",
      " |-- match%_equ_Company_Name_max_length: integer (nullable = true)\n",
      " |-- match%_equ_Company_Name_levenshtein_distance: integer (nullable = true)\n",
      " |-- match%_equ_Company_Name_match_percentage: double (nullable = true)\n",
      " |-- match%_dnb_Company_Name_max_length: integer (nullable = true)\n",
      " |-- match%_dnb_Company_Name_levenshtein_distance: integer (nullable = true)\n",
      " |-- match%_dnb_Company_Name_match_percentage: double (nullable = true)\n",
      " |-- match%_equ_Email_max_length: integer (nullable = true)\n",
      " |-- match%_equ_Email_levenshtein_distance: integer (nullable = true)\n",
      " |-- match%_equ_Email_match_percentage: double (nullable = true)\n",
      " |-- match%_dnb_Email_max_length: integer (nullable = true)\n",
      " |-- match%_dnb_Email_levenshtein_distance: integer (nullable = true)\n",
      " |-- match%_dnb_Email_match_percentage: double (nullable = true)\n",
      "\n"
     ]
    }
   ],
   "source": [
    "dr = compare_columns(dr, \"Email\", \"dnb_Email\")\n",
    "dr.printSchema()"
   ]
  },
  {
   "cell_type": "code",
   "execution_count": 275,
   "id": "48dc4b38-1fdd-4244-8d0c-ef5713433873",
   "metadata": {},
   "outputs": [
    {
     "name": "stdout",
     "output_type": "stream",
     "text": [
      "+-----------+--------------+--------------+--------------------------------------+--------------------------------------+---------+-------------+-------------+-------------------------------------+-------------------------------------+-------------+-----------------+-----------------+-----------------------------------------+-----------------------------------------+-----------+---------------+---------------+---------------------------------------+---------------------------------------+------+----------+----------+----------------------------------+----------------------------------+--------------+------------------+------------------+------------------------------------------+------------------------------------------+-----------------+-------------------+-------------------+-------------------------------------------+-------------------------------------------+--------------------+--------------------+--------------------+-----------------------------------+-----------------------------------+-------------+-------------+-------------+--------------------------------+--------------------------------+-----------+---------------+---------------+---------------------------------------+---------------------------------------+--------------+--------------+--------------+-----------------------------------+-----------------------------------+------------+----------------+----------------+----------------------------------------+----------------------------------------+--------------+----------------+----------------+----------------------------------------+----------------------------------------+--------------------+--------------------+--------------------+----------------------------------------+----------------------------------------+--------------------+--------------------+--------------------+---------------------------------+---------------------------------+\n",
      "| First Name|equ_First_Name|dnb_First_Name|match%_equ_First_Name_match_percentage|match%_dnb_First_Name_match_percentage|Last Name|equ_Last_Name|dnb_Last_Name|match%_equ_Last_Name_match_percentage|match%_dnb_Last_Name_match_percentage|Date of Birth|equ_Date_of_Birth|dnb_Date_of_Birth|match%_equ_Date_of_Birth_match_percentage|match%_dnb_Date_of_Birth_match_percentage|Blood Group|equ_Blood_Group|dnb_Blood_Group|match%_equ_Blood_Group_match_percentage|match%_dnb_Blood_Group_match_percentage|Gender|equ_Gender|dnb_Gender|match%_equ_Gender_match_percentage|match%_dnb_Gender_match_percentage|Marital Status|equ_Marital_Status|dnb_Marital_Status|match%_equ_Marital_Status_match_percentage|match%_dnb_Marital_Status_match_percentage|  Education Level|equ_Education_Level|dnb_Education_Level|match%_equ_Education_Level_match_percentage|match%_dnb_Education_Level_match_percentage|             Address|         equ_Address|         dnb_Address|match%_equ_Address_match_percentage|match%_dnb_Address_match_percentage|         City|     equ_City|     dnb_City|match%_equ_City_match_percentage|match%_dnb_City_match_percentage|Postal Code|equ_Postal_Code|dnb_Postal_Code|match%_equ_Postal_Code_match_percentage|match%_dnb_Postal_Code_match_percentage|       Country|   equ_Country|   dnb_Country|match%_equ_Country_match_percentage|match%_dnb_Country_match_percentage|Country Code|equ_Country_Code|dnb_Country_Code|match%_equ_Country_Code_match_percentage|match%_dnb_Country_Code_match_percentage|  Phone Number|equ_Phone_Number|dnb_Phone_Number|match%_equ_Phone_Number_match_percentage|match%_dnb_Phone_Number_match_percentage|        Company Name|    equ_Company_Name|    dnb_Company_Name|match%_equ_Company_Name_match_percentage|match%_dnb_Company_Name_match_percentage|               Email|           equ_Email|           dnb_Email|match%_equ_Email_match_percentage|match%_dnb_Email_match_percentage|\n",
      "+-----------+--------------+--------------+--------------------------------------+--------------------------------------+---------+-------------+-------------+-------------------------------------+-------------------------------------+-------------+-----------------+-----------------+-----------------------------------------+-----------------------------------------+-----------+---------------+---------------+---------------------------------------+---------------------------------------+------+----------+----------+----------------------------------+----------------------------------+--------------+------------------+------------------+------------------------------------------+------------------------------------------+-----------------+-------------------+-------------------+-------------------------------------------+-------------------------------------------+--------------------+--------------------+--------------------+-----------------------------------+-----------------------------------+-------------+-------------+-------------+--------------------------------+--------------------------------+-----------+---------------+---------------+---------------------------------------+---------------------------------------+--------------+--------------+--------------+-----------------------------------+-----------------------------------+------------+----------------+----------------+----------------------------------------+----------------------------------------+--------------+----------------+----------------+----------------------------------------+----------------------------------------+--------------------+--------------------+--------------------+----------------------------------------+----------------------------------------+--------------------+--------------------+--------------------+---------------------------------+---------------------------------+\n",
      "|     Laurie|        Laurie|        Laurie|                                 100.0|                                 100.0|   Harris|       Harris|       Harris|                                100.0|                                100.0|   1978-04-16|       1978-04-16|         78-04-16|                                    100.0|                                     80.0|         O-|             O-|             O-|                                  100.0|                                  100.0|Female|         F|    Female|                16.666666666666664|                             100.0|      divorced|          divorced|          divorced|                                     100.0|                                     100.0|  Master's Degree|    Master's Degree|    Master's Degree|                                      100.0|                                      100.0|1090 Kylie Prairi...|149 Janet streets...|1090 Kylie Prairi...|                  27.27272727272727|                              100.0|San Francisco|San Francisco|San Francisco|                           100.0|                           100.0|      20835|          01601|          20835|                                    0.0|                                  100.0| United States| United States| United States|                              100.0|                              100.0|          US|              US|              US|                                   100.0|                                   100.0| +1-8293517046|   +1-8293517046|   +1-8293517046|                                   100.0|                                   100.0|Lang  Kent and Wa...|Lang  Kent and Wa...|Lang  Kent and Wa...|                                   100.0|                                   100.0|laurie.harris@lan...|laurie.harris@lan...|laurie.harris@lan...|                            100.0|                            100.0|\n",
      "|     Angela|        Angela|        Angela|                                 100.0|                                 100.0|    Sloan|        Sloan|        Sloan|                                100.0|                                100.0|   1981-06-17|       1981-06-17|       1981-06-17|                                    100.0|                                    100.0|         B-|             B-|             B-|                                  100.0|                                  100.0|Female|    Female|         F|                             100.0|                16.666666666666664|      divorced|          divorced|          divorced|                                     100.0|                                     100.0|      High School|                PhD|        High School|                          9.090909090909093|                                      100.0|773 Velazquez Sho...|773 Velazquez Sho...|773 Velazquez Sho...|                              100.0|                              100.0| Philadelphia|   Manchester| Philadelphia|               8.333333333333337|                           100.0|      61499|          61499|          61499|                                  100.0|                                  100.0| United States| United States| United States|                              100.0|                              100.0|          US|              US|              US|                                   100.0|                                   100.0| +1-1534826097|   +1-1534826097|   +1-1534826097|                                   100.0|                                   100.0|           Smith Inc|           Smith Inc|           Smith Inc|                                   100.0|                                   100.0|angela.sloan@smit...|angela.sloan@smit...|angela.sloan@smit...|                            100.0|                            100.0|\n",
      "|    Rachael|       Rachael|       Rachael|                                 100.0|                                 100.0|    Perry|        Perry|        Perry|                                100.0|                                100.0|   1975-09-17|       1975-09-17|       1975-09-17|                                    100.0|                                    100.0|        AB-|            AB-|            AB-|                                  100.0|                                  100.0|Female|    Female|    Female|                             100.0|                             100.0|      divorced|          divorced|          divorced|                                     100.0|                                     100.0|Bachelor's Degree|  Bachelor's Degree|  Bachelor's Degree|                                      100.0|                                      100.0|4 Alexander heigh...|4 Alexander heigh...|4 Alexander heigh...|                              100.0|                              100.0|    Liverpool|    Liverpool|    Liverpool|                           100.0|                           100.0|    G78 5ZH|          56892|        G78 5ZH|                      14.28571428571429|                                  100.0|United Kingdom|United Kingdom|United Kingdom|                              100.0|                              100.0|          GB|              GB|              GB|                                   100.0|                                   100.0|+44-8290673415|  +44-8290673415|  +44-8290673415|                                   100.0|                                   100.0|Anderson  Allen a...|Anderson  Allen a...|Anderson  Allen a...|                                   100.0|                                   100.0|rachael.perry@and...|rachael.perry@and...|rachael.perry@and...|                            100.0|                            100.0|\n",
      "|  Stephanie|     Stephanie|     Stephanie|                                 100.0|                                 100.0|    Riley|        Riley|        Riley|                                100.0|                                100.0|   1962-12-01|       1962-12-01|       1962-12-01|                                    100.0|                                    100.0|         B-|             B-|             B-|                                  100.0|                                  100.0|Female|    Female|         F|                             100.0|                16.666666666666664|       married|           married|           married|                                     100.0|                                     100.0|  Master's Degree|    Master's Degree|    Master's Degree|                                      100.0|                                      100.0|07 Justin unions,...|07 Justin unions,...|07 Justin unions,...|                              100.0|                              100.0|    Doncaster|    Doncaster|    Doncaster|                           100.0|                           100.0|    S2G 4DH|        S2G 4DH|        S2G 4DH|                                  100.0|                                  100.0|United Kingdom|United Kingdom|United Kingdom|                              100.0|                              100.0|          GB|              GB|              GB|                                   100.0|                                   100.0|+44-8625037149|  +44-2741608935|  +44-8625037149|                       28.57142857142857|                                   100.0|          Winter Inc|          Winter Inc|          Winter Inc|                                   100.0|                                   100.0|stephanie.riley@w...|stephanie.riley@w...|stephanie.riley@w...|                            100.0|                            100.0|\n",
      "|    Cameron|       Cameron|       Cameron|                                 100.0|                                 100.0|  Roberts|      Roberts|      Roberts|                                100.0|                                100.0|   2004-07-26|       2004-07-26|       2004-07-26|                                    100.0|                                    100.0|        AB+|            AB+|            AB+|                                  100.0|                                  100.0|  Male|      Male|      Male|                             100.0|                             100.0|        single|            single|            single|                                     100.0|                                     100.0|Bachelor's Degree|  Bachelor's Degree|  Bachelor's Degree|                                      100.0|                                      100.0|86 Bailey crest, ...|86 Bailey crest, ...|86 Bailey crest, ...|                              100.0|                              100.0|      Glasgow|      Glasgow|      Glasgow|                           100.0|                           100.0|     N7 4RF|         N7 4RF|         N7 4RF|                                  100.0|                                  100.0|United Kingdom|United Kingdom|United Kingdom|                              100.0|                              100.0|          GB|              GB|              GB|                                   100.0|                                   100.0|+44-3068157249|  +44-3068157249|  +44-3068157249|                                   100.0|                                   100.0|     Robinson Gibson|     Robinson Gibson|     Robinson Gibson|                                   100.0|                                   100.0|cameron.roberts@r...|cameron.roberts@r...|cameron.roberts@r...|                            100.0|                            100.0|\n",
      "|       Ross|          Ross|          Ross|                                 100.0|                                 100.0|    Brown|        Brown|        Brown|                                100.0|                                100.0|   1964-04-19|       1964-04-19|       1964-04-19|                                    100.0|                                    100.0|         O+|             O+|             O+|                                  100.0|                                  100.0|  Male|      Male|      Male|                             100.0|                             100.0|       married|           married|           married|                                     100.0|                                     100.0|              PhD|                PhD|                PhD|                                      100.0|                                      100.0|009 Scott Alley, ...|009 Scott Alley, ...|009 Scott Alley, ...|                              100.0|                              100.0|  San Antonio|  San Antonio|  San Antonio|                           100.0|                           100.0|      89654|          59294|        TS3 8FW|                                   40.0|                                    0.0| United States| United States| United States|                              100.0|                              100.0|          US|              US|              US|                                   100.0|                                   100.0| +1-5947032618|   +1-5947032618|   +1-5947032618|                                   100.0|                                   100.0|Franco  Byrd and ...|Franco  Byrd and ...|Franco  Byrd and ...|                                   100.0|                                   100.0|ross.brown@franco...|ross.brown@franco...|ross.brown@franco...|                            100.0|                            100.0|\n",
      "|      Karla|         Karla|         Karla|                                 100.0|                                 100.0|  Carlson|      Carlson|      Carlson|                                100.0|                                100.0|   1986-06-21|       1986-06-21|       1986-06-21|                                    100.0|                                    100.0|         O+|             O+|             O+|                                  100.0|                                  100.0|Female|    Female|    Female|                             100.0|                             100.0|       married|           married|           married|                                     100.0|                                     100.0|              PhD|                PhD|                PhD|                                      100.0|                                      100.0|996 Vaughn Villag...|996 Vaughn Villag...|86419 Murphy Stat...|                              100.0|                 19.047619047619047| Jacksonville| Jacksonville| Jacksonville|                           100.0|                           100.0|      43562|          43562|          43562|                                  100.0|                                  100.0| United States| United States| United States|                              100.0|                              100.0|          US|              US|              US|                                   100.0|                                   100.0| +1-8245796013|   +1-1567398402|   +1-8245796013|                       30.76923076923077|                                   100.0|        Gonzalez Inc|        Gonzalez Inc|        Gonzalez Inc|                                   100.0|                                   100.0|karla.carlson@gon...|karla.carlson@gon...|karla.carlson@gon...|                            100.0|                            100.0|\n",
      "|       Marc|          Marc|          Marc|                                 100.0|                                 100.0|     Hunt|         Hunt|         Hunt|                                100.0|                                100.0|   1967-03-30|         67-03-30|       1967-03-30|                                     80.0|                                    100.0|         A-|             A-|             A-|                                  100.0|                                  100.0|  Male|      Male|      Male|                             100.0|                             100.0|       married|           married|           married|                                     100.0|                                     100.0|              PhD|                PhD|                PhD|                                      100.0|                                      100.0|19 Glenn mill, Fl...|19 Glenn mill, Fl...|19 Glenn mill, Fl...|                              100.0|                              100.0|       London|       London|       London|                           100.0|                           100.0|   HD7V 6ES|       HD7V 6ES|       HD7V 6ES|                                  100.0|                                  100.0|United Kingdom|United Kingdom|United Kingdom|                              100.0|                              100.0|          GB|              GB|              GB|                                   100.0|                                   100.0|+44-0314257698|  +44-0314257698|  +44-0314257698|                                   100.0|                                   100.0|            Hill Ltd|            Hill Ltd|            Hill Ltd|                                   100.0|                                   100.0|marc.hunt@hillltd...|marc.hunt@hillltd...|marc.hunt@hillltd...|                            100.0|                            100.0|\n",
      "|      Renee|         Renee|         Renee|                                 100.0|                                 100.0|    Clark|        Clark|        Clark|                                100.0|                                100.0|   1995-05-06|       1995-05-06|       1995-05-06|                                    100.0|                                    100.0|        AB-|            AB-|            AB-|                                  100.0|                                  100.0|Female|    Female|    Female|                             100.0|                             100.0|        single|            single|            single|                                     100.0|                                     100.0|  Master's Degree|    Master's Degree|    Master's Degree|                                      100.0|                                      100.0|59503 Shane Squar...|59503 Shane Squar...|59503 Shane Squar...|                              100.0|                              100.0|       Boston|       Boston|       Boston|                           100.0|                           100.0|      56406|          56406|          56406|                                  100.0|                                  100.0| United States| United States| United States|                              100.0|                              100.0|          US|              US|              US|                                   100.0|                                   100.0| +1-2694807135|   +1-0362945178|   +1-2694807135|                       38.46153846153846|                                   100.0|     Rojas Hernandez|     Rojas Hernandez|     Rojas Hernandez|                                   100.0|                                   100.0|renee.clark@rojas...|renee.clark@rojas...|renee.clark@rojas...|                            100.0|                            100.0|\n",
      "|     Austin|        Austin|        Austin|                                 100.0|                                 100.0|    Price|        Price|        Price|                                100.0|                                100.0|   2004-06-09|       2004-06-09|       2004-06-09|                                    100.0|                                    100.0|         A-|             A-|             A-|                                  100.0|                                  100.0|  Male|      Male|      Male|                             100.0|                             100.0|        single|            single|            single|                                     100.0|                                     100.0|Bachelor's Degree|  Bachelor's Degree|                PhD|                                      100.0|                         11.764705882352944|88645 Katherine P...|88645 Katherine P...|88645 Katherine P...|                              100.0|                              100.0|       Austin| Philadelphia|       Austin|               8.333333333333337|                           100.0|      62573|          81490|          62573|                                    0.0|                                  100.0| United States| United States| United States|                              100.0|                              100.0|          US|              US|              US|                                   100.0|                                   100.0| +1-3184206957|   +1-3184206957|   +1-3184206957|                                   100.0|                                   100.0|Edwards  Anderson...|Edwards  Anderson...|Edwards  Anderson...|                                   100.0|                                   100.0|austin.price@edwa...|austin.price@edwa...|austin.price@edwa...|                            100.0|                            100.0|\n",
      "|     Ashley|        Ashley|        Ashley|                                 100.0|                                 100.0|  Johnson|      Johnson|      Johnson|                                100.0|                                100.0|   1973-06-12|       1973-06-12|       1973-06-12|                                    100.0|                                    100.0|        AB+|            AB+|            AB+|                                  100.0|                                  100.0|Female|    Female|    Female|                             100.0|                             100.0|      divorced|          divorced|          divorced|                                     100.0|                                     100.0|  Master's Degree|        High School|    Master's Degree|                          6.666666666666665|                                      100.0|0172 Zachary Keys...|0172 Zachary Keys...|0172 Zachary Keys...|                              100.0|                              100.0|      Phoenix|     New York|      Phoenix|                             0.0|                           100.0|      36814|          36814|          36814|                                  100.0|                                  100.0| United States| United States| United States|                              100.0|                              100.0|          US|              US|              US|                                   100.0|                                   100.0| +1-1896235074|   +1-1896235074|   +1-1896235074|                                   100.0|                                   100.0|          Morris Fox|          Morris Fox|          Morris Fox|                                   100.0|                                   100.0|ashley.johnson@mo...|ashley.johnson@mo...|ashley.johnson@mo...|                            100.0|                            100.0|\n",
      "|   Lorraine|      Lorraine|      Lorraine|                                 100.0|                                 100.0|    Berry|        Berry|        Berry|                                100.0|                                100.0|   1975-02-22|       1975-02-22|       1975-02-22|                                    100.0|                                    100.0|        AB-|            AB-|            AB-|                                  100.0|                                  100.0|Female|    Female|         F|                             100.0|                16.666666666666664|      divorced|          divorced|          divorced|                                     100.0|                                     100.0|  Master's Degree|    Master's Degree|    Master's Degree|                                      100.0|                                      100.0|37 Christine cree...|37 Christine cree...|27976 Sweeney Roa...|                              100.0|                 21.052631578947366|   Birmingham|   Birmingham|      Cardiff|                           100.0|              19.999999999999996|   AL03 8EE|       AL03 8EE|       AL03 8EE|                                  100.0|                                  100.0|United Kingdom|United Kingdom|United Kingdom|                              100.0|                              100.0|          GB|              GB|              GB|                                   100.0|                                   100.0|+44-0547169823|  +44-0547169823|  +44-0547169823|                                   100.0|                                   100.0|Bryan  Thomas and...|Bryan  Thomas and...|Bryan  Thomas and...|                                   100.0|                                   100.0|lorraine.berry@br...|lorraine.berry@br...|lorraine.berry@br...|                            100.0|                            100.0|\n",
      "|       Josh|          Josh|          Josh|                                 100.0|                                 100.0|    Craig|        Craig|        Craig|                                100.0|                                100.0|   1976-02-29|       1976-02-29|       1976-02-29|                                    100.0|                                    100.0|         A+|             A+|             A+|                                  100.0|                                  100.0|  Male|      Male|      Male|                             100.0|                             100.0|      divorced|          divorced|          divorced|                                     100.0|                                     100.0|      High School|  Bachelor's Degree|        High School|                         11.764705882352944|                                      100.0|2 Barry points, F...|2 Barry points, F...|2 Barry points, F...|                              100.0|                              100.0|        Leeds|        Leeds|        Leeds|                           100.0|                           100.0|   WN13 4DE|       CW85 5LH|       WN13 4DE|                                   12.5|                                  100.0|United Kingdom|United Kingdom|United Kingdom|                              100.0|                              100.0|          GB|              GB|              GB|                                   100.0|                                   100.0|+44-3597486201|  +44-3597486201|  +44-3597486201|                                   100.0|                                   100.0|Ball  James and R...|Ball  James and R...|Ball  James and R...|                                   100.0|                                   100.0|josh.craig@ballja...|josh.craig@ballja...|josh.craig@ballja...|                            100.0|                            100.0|\n",
      "|    Jessica|       Jessica|       Jessica|                                 100.0|                                 100.0|    James|        James|        James|                                100.0|                                100.0|   2005-06-18|       2005-06-18|       2005-06-18|                                    100.0|                                    100.0|         B-|             B-|             B-|                                  100.0|                                  100.0|Female|    Female|    Female|                             100.0|                             100.0|        single|            single|            single|                                     100.0|                                     100.0|  Master's Degree|    Master's Degree|    Master's Degree|                                      100.0|                                      100.0|87 Jade glens, St...|87 Jade glens, St...|87 Jade glens, St...|                              100.0|                              100.0|      Bristol|       London|      Bristol|               14.28571428571429|                           100.0|   CT4M 1ES|       CT4M 1ES|       CT4M 1ES|                                  100.0|                                  100.0|United Kingdom|United Kingdom|United Kingdom|                              100.0|                              100.0|          GB|              GB|              GB|                                   100.0|                                   100.0|+44-6439108725|   +1-5264789031|  +44-6092187534|                       21.42857142857143|                                    50.0|           Smith Inc|           Smith Inc|           Smith Inc|                                   100.0|                                   100.0|jessica.james@smi...|jessica.james@smi...|jessica.james@smi...|                            100.0|                            100.0|\n",
      "|      Emily|         Emily|         Emily|                                 100.0|                                 100.0|    Price|        Price|        Price|                                100.0|                                100.0|   1996-08-17|       1996-08-17|         96-08-17|                                    100.0|                                     80.0|        AB-|            AB-|            AB-|                                  100.0|                                  100.0|Female|    Female|    Female|                             100.0|                             100.0|       married|           married|           married|                                     100.0|                                     100.0|Bachelor's Degree|        High School|  Bachelor's Degree|                         11.764705882352944|                                      100.0|603 Wilson Ford, ...|93198 Kenneth Hig...|603 Wilson Ford, ...|                  32.55813953488372|                              100.0|San Francisco|San Francisco|San Francisco|                           100.0|                           100.0|      65831|          57739|          65831|                     19.999999999999996|                                  100.0| United States| United States| United States|                              100.0|                              100.0|          US|              US|              US|                                   100.0|                                   100.0| +1-7219834650|   +1-7219834650|   +1-7219834650|                                   100.0|                                   100.0|      Walton Walters|      Walton Walters|      Walton Walters|                                   100.0|                                   100.0|emily.price@walto...|emily.price@walto...|emily.price@walto...|                            100.0|                            100.0|\n",
      "|       John|          John|          John|                                 100.0|                                 100.0|Jefferson|    Jefferson|    Jefferson|                                100.0|                                100.0|   1962-08-15|         62-08-15|       1962-08-15|                                     80.0|                                    100.0|         A+|     A Positive|     A Positive|                      9.999999999999998|                      9.999999999999998|  Male|         M|      Male|                              25.0|                             100.0|       widowed|           widowed|           widowed|                                     100.0|                                     100.0|              PhD|                PhD|                PhD|                                      100.0|                                      100.0|8089 Brown Courts...|8089 Brown Courts...|8089 Brown Courts...|                              100.0|                              100.0|     New York|     New York|   Birmingham|                           100.0|                             0.0|      77696|        G1W 5XD|          77696|                                    0.0|                                  100.0| United States| United States| United States|                              100.0|                              100.0|          US|              US|              US|                                   100.0|                                   100.0| +1-1740239685|   +1-4502768139|   +1-1740239685|                       38.46153846153846|                                   100.0|Mcneil  Freeman a...|Mcneil  Freeman a...|Mcneil  Freeman a...|                                   100.0|                                   100.0|john.jefferson@mc...|john.jefferson@mc...|john.jefferson@mc...|                            100.0|                            100.0|\n",
      "|     Joseph|        Joseph|        Joseph|                                 100.0|                                 100.0|     Howe|         Howe|         Howe|                                100.0|                                100.0|   1976-04-27|       1976-04-27|       1976-04-27|                                    100.0|                                    100.0|         O+|             O+|             O+|                                  100.0|                                  100.0|  Male|      Male|      Male|                             100.0|                             100.0|      divorced|          divorced|          divorced|                                     100.0|                                     100.0|  Master's Degree|  Bachelor's Degree|    Master's Degree|                          70.58823529411764|                                      100.0|24 Jonathan squar...|24 Jonathan squar...|24 Jonathan squar...|                              100.0|                              100.0|      Cardiff|      Cardiff|      Cardiff|                           100.0|                           100.0|    N37 8FL|        N37 8FL|        N37 8FL|                                  100.0|                                  100.0|United Kingdom|United Kingdom|United Kingdom|                              100.0|                              100.0|          GB|              GB|              GB|                                   100.0|                                   100.0|+44-4251860397|  +44-4251860397|  +44-4251860397|                                   100.0|                                   100.0|Booth  Baker and ...|Booth  Baker and ...|Booth  Baker and ...|                                   100.0|                                   100.0|joseph.howe@booth...|joseph.howe@booth...|joseph.howe@booth...|                            100.0|                            100.0|\n",
      "|     Connie|        Connie|        Connie|                                 100.0|                                 100.0|      May|          May|          May|                                100.0|                                100.0|   1978-02-15|       1978-02-15|       1978-02-15|                                    100.0|                                    100.0|         O+|             O+|             O+|                                  100.0|                                  100.0|Female|    Female|    Female|                             100.0|                             100.0|       married|           married|           married|                                     100.0|                                     100.0|  Master's Degree|    Master's Degree|                PhD|                                      100.0|                          6.666666666666665|15990 Cochran Cor...|15990 Cochran Cor...|15990 Cochran Cor...|                              100.0|                              100.0|      Houston|      Houston|      Houston|                           100.0|                           100.0|      08875|          08875|       SP03 3XT|                                  100.0|                                   12.5| United States| United States| United States|                              100.0|                              100.0|          US|              US|              US|                                   100.0|                                   100.0| +1-6587023194|   +1-6587023194|   +1-6587023194|                                   100.0|                                   100.0|       Martin Fisher|       Martin Fisher|       Martin Fisher|                                   100.0|                                   100.0|connie.may@martin...|connie.may@martin...|connie.may@martin...|                            100.0|                            100.0|\n",
      "|Christopher|   Christopher|   Christopher|                                 100.0|                                 100.0|   Akhtar|       Akhtar|       Akhtar|                                100.0|                                100.0|   1963-09-21|       1963-09-21|       1963-09-21|                                    100.0|                                    100.0|         A-|             A-|             A-|                                  100.0|                                  100.0|  Male|      Male|      Male|                             100.0|                             100.0|       widowed|           widowed|           widowed|                                     100.0|                                     100.0|              PhD|                PhD|                PhD|                                      100.0|                                      100.0|888 Tina meadow, ...|888 Tina meadow, ...|888 Tina meadow, ...|                              100.0|                              100.0|    Liverpool|   Manchester|    Liverpool|                             0.0|                           100.0|    SN0 2TN|        SN0 2TN|        SN0 2TN|                                  100.0|                                  100.0|United Kingdom|United Kingdom|United Kingdom|                              100.0|                              100.0|          GB|              GB|              GB|                                   100.0|                                   100.0|+44-5389241067|  +44-4192573680|  +44-5389241067|                       42.85714285714286|                                   100.0|Roberts  Wall and...|Roberts  Wall and...|Roberts  Wall and...|                                   100.0|                                   100.0|christopher.akhta...|christopher.akhta...|christopher.akhta...|                            100.0|                            100.0|\n",
      "|      Janet|         Janet|         Janet|                                 100.0|                                 100.0|    Smith|        Smith|        Smith|                                100.0|                                100.0|   1988-03-02|       1988-03-02|       1988-03-02|                                    100.0|                                    100.0|        AB+|            AB+|            AB+|                                  100.0|                                  100.0|Female|         F|    Female|                16.666666666666664|                             100.0|        single|            single|            single|                                     100.0|                                     100.0|Bachelor's Degree|        High School|  Bachelor's Degree|                         11.764705882352944|                                      100.0|75 Max mill, Stud...|75 Max mill, Stud...|95361 Michael Rid...|                              100.0|                 33.333333333333336|   Manchester|   Manchester|   Manchester|                           100.0|                           100.0|   CF2R 7RF|       CF2R 7RF|       CF2R 7RF|                                  100.0|                                  100.0|United Kingdom|United Kingdom|United Kingdom|                              100.0|                              100.0|          GB|              GB|              GB|                                   100.0|                                   100.0|+44-8651290473|  +44-8651290473|  +44-8651290473|                                   100.0|                                   100.0|      Saunders Yates|      Saunders Yates|      Saunders Yates|                                   100.0|                                   100.0|janet.smith@saund...|janet.smith@saund...|janet.smith@saund...|                            100.0|                            100.0|\n",
      "+-----------+--------------+--------------+--------------------------------------+--------------------------------------+---------+-------------+-------------+-------------------------------------+-------------------------------------+-------------+-----------------+-----------------+-----------------------------------------+-----------------------------------------+-----------+---------------+---------------+---------------------------------------+---------------------------------------+------+----------+----------+----------------------------------+----------------------------------+--------------+------------------+------------------+------------------------------------------+------------------------------------------+-----------------+-------------------+-------------------+-------------------------------------------+-------------------------------------------+--------------------+--------------------+--------------------+-----------------------------------+-----------------------------------+-------------+-------------+-------------+--------------------------------+--------------------------------+-----------+---------------+---------------+---------------------------------------+---------------------------------------+--------------+--------------+--------------+-----------------------------------+-----------------------------------+------------+----------------+----------------+----------------------------------------+----------------------------------------+--------------+----------------+----------------+----------------------------------------+----------------------------------------+--------------------+--------------------+--------------------+----------------------------------------+----------------------------------------+--------------------+--------------------+--------------------+---------------------------------+---------------------------------+\n",
      "only showing top 20 rows\n",
      "\n",
      "root\n",
      " |-- First Name: string (nullable = true)\n",
      " |-- equ_First_Name: string (nullable = true)\n",
      " |-- dnb_First_Name: string (nullable = true)\n",
      " |-- match%_equ_First_Name_match_percentage: double (nullable = true)\n",
      " |-- match%_dnb_First_Name_match_percentage: double (nullable = true)\n",
      " |-- Last Name: string (nullable = true)\n",
      " |-- equ_Last_Name: string (nullable = true)\n",
      " |-- dnb_Last_Name: string (nullable = true)\n",
      " |-- match%_equ_Last_Name_match_percentage: double (nullable = true)\n",
      " |-- match%_dnb_Last_Name_match_percentage: double (nullable = true)\n",
      " |-- Date of Birth: date (nullable = true)\n",
      " |-- equ_Date_of_Birth: string (nullable = true)\n",
      " |-- dnb_Date_of_Birth: string (nullable = true)\n",
      " |-- match%_equ_Date_of_Birth_match_percentage: double (nullable = true)\n",
      " |-- match%_dnb_Date_of_Birth_match_percentage: double (nullable = true)\n",
      " |-- Blood Group: string (nullable = true)\n",
      " |-- equ_Blood_Group: string (nullable = true)\n",
      " |-- dnb_Blood_Group: string (nullable = true)\n",
      " |-- match%_equ_Blood_Group_match_percentage: double (nullable = true)\n",
      " |-- match%_dnb_Blood_Group_match_percentage: double (nullable = true)\n",
      " |-- Gender: string (nullable = true)\n",
      " |-- equ_Gender: string (nullable = true)\n",
      " |-- dnb_Gender: string (nullable = true)\n",
      " |-- match%_equ_Gender_match_percentage: double (nullable = true)\n",
      " |-- match%_dnb_Gender_match_percentage: double (nullable = true)\n",
      " |-- Marital Status: string (nullable = true)\n",
      " |-- equ_Marital_Status: string (nullable = true)\n",
      " |-- dnb_Marital_Status: string (nullable = true)\n",
      " |-- match%_equ_Marital_Status_match_percentage: double (nullable = true)\n",
      " |-- match%_dnb_Marital_Status_match_percentage: double (nullable = true)\n",
      " |-- Education Level: string (nullable = true)\n",
      " |-- equ_Education_Level: string (nullable = true)\n",
      " |-- dnb_Education_Level: string (nullable = true)\n",
      " |-- match%_equ_Education_Level_match_percentage: double (nullable = true)\n",
      " |-- match%_dnb_Education_Level_match_percentage: double (nullable = true)\n",
      " |-- Address: string (nullable = true)\n",
      " |-- equ_Address: string (nullable = true)\n",
      " |-- dnb_Address: string (nullable = true)\n",
      " |-- match%_equ_Address_match_percentage: double (nullable = true)\n",
      " |-- match%_dnb_Address_match_percentage: double (nullable = true)\n",
      " |-- City: string (nullable = true)\n",
      " |-- equ_City: string (nullable = true)\n",
      " |-- dnb_City: string (nullable = true)\n",
      " |-- match%_equ_City_match_percentage: double (nullable = true)\n",
      " |-- match%_dnb_City_match_percentage: double (nullable = true)\n",
      " |-- Postal Code: string (nullable = true)\n",
      " |-- equ_Postal_Code: string (nullable = true)\n",
      " |-- dnb_Postal_Code: string (nullable = true)\n",
      " |-- match%_equ_Postal_Code_match_percentage: double (nullable = true)\n",
      " |-- match%_dnb_Postal_Code_match_percentage: double (nullable = true)\n",
      " |-- Country: string (nullable = true)\n",
      " |-- equ_Country: string (nullable = true)\n",
      " |-- dnb_Country: string (nullable = true)\n",
      " |-- match%_equ_Country_match_percentage: double (nullable = true)\n",
      " |-- match%_dnb_Country_match_percentage: double (nullable = true)\n",
      " |-- Country Code: string (nullable = true)\n",
      " |-- equ_Country_Code: string (nullable = true)\n",
      " |-- dnb_Country_Code: string (nullable = true)\n",
      " |-- match%_equ_Country_Code_match_percentage: double (nullable = true)\n",
      " |-- match%_dnb_Country_Code_match_percentage: double (nullable = true)\n",
      " |-- Phone Number: string (nullable = true)\n",
      " |-- equ_Phone_Number: string (nullable = true)\n",
      " |-- dnb_Phone_Number: string (nullable = true)\n",
      " |-- match%_equ_Phone_Number_match_percentage: double (nullable = true)\n",
      " |-- match%_dnb_Phone_Number_match_percentage: double (nullable = true)\n",
      " |-- Company Name: string (nullable = true)\n",
      " |-- equ_Company_Name: string (nullable = true)\n",
      " |-- dnb_Company_Name: string (nullable = true)\n",
      " |-- match%_equ_Company_Name_match_percentage: double (nullable = true)\n",
      " |-- match%_dnb_Company_Name_match_percentage: double (nullable = true)\n",
      " |-- Email: string (nullable = true)\n",
      " |-- equ_Email: string (nullable = true)\n",
      " |-- dnb_Email: string (nullable = true)\n",
      " |-- match%_equ_Email_match_percentage: double (nullable = true)\n",
      " |-- match%_dnb_Email_match_percentage: double (nullable = true)\n",
      "\n"
     ]
    }
   ],
   "source": [
    "detail_report.show()\n",
    "detail_report.printSchema()"
   ]
  },
  {
   "cell_type": "code",
   "execution_count": 230,
   "id": "9a028165-ed0f-4a86-bdfa-0d8c0170318f",
   "metadata": {},
   "outputs": [],
   "source": [
    "syn=spark.read.csv(r\"C:\\Users\\sansk\\Downloads\\pyspark\\Synthetic_kyc_data.csv\",header=True,inferSchema=True,sep=\",\",encoding=\"UTF-8\",nullValue=\"NULL\")"
   ]
  },
  {
   "cell_type": "code",
   "execution_count": 267,
   "id": "f721385a-24c6-4ef5-865b-5e8192529764",
   "metadata": {},
   "outputs": [],
   "source": [
    "sr=spark.read.csv(r\"C:\\Users\\sansk\\Downloads\\pyspark\\sr.csv.txt\",header=True,inferSchema=True,sep=\",\",encoding=\"UTF-8\",nullValue=\"NULL\")"
   ]
  },
  {
   "cell_type": "code",
   "execution_count": 268,
   "id": "dabd8387-15c7-4555-975a-5def4c6ec526",
   "metadata": {},
   "outputs": [
    {
     "name": "stdout",
     "output_type": "stream",
     "text": [
      "+---------------+----------------------------+----------------------+\n",
      "|attribute names|overall experian matching % |overall D&B matching %|\n",
      "+---------------+----------------------------+----------------------+\n",
      "|passport Number|                       100.0|                 100.0|\n",
      "|     fisrt name|                       100.0|                 100.0|\n",
      "|      last name|                       100.0|                 100.0|\n",
      "|  date of birth|                     95.9788|               96.9862|\n",
      "|    blood group|                     91.0036|               93.3715|\n",
      "|         gender|           84.26375000000156|      88.1480833333347|\n",
      "| marital status|                       100.0|                 100.0|\n",
      "|education level|           87.92690944741793|     90.96800427807685|\n",
      "|        address|           85.57572036533742|     89.10726807366501|\n",
      "|           city|           83.50448777888673|     87.57197336829755|\n",
      "|    postal code|           82.33951071428505|     86.73370714285663|\n",
      "|        country|                       100.0|                 100.0|\n",
      "|   country code|                       100.0|                 100.0|\n",
      "|   phone number|           86.68834065934041|     89.86903846153822|\n",
      "|   company name|                       100.0|                 100.0|\n",
      "|          email|                       100.0|                 100.0|\n",
      "+---------------+----------------------------+----------------------+\n",
      "\n"
     ]
    }
   ],
   "source": [
    "sr.show()"
   ]
  },
  {
   "cell_type": "code",
   "execution_count": 234,
   "id": "99359f7e-18ea-4ab5-88ad-5e27ab779860",
   "metadata": {},
   "outputs": [
    {
     "name": "stdout",
     "output_type": "stream",
     "text": [
      "root\n",
      " |-- First Name: string (nullable = true)\n",
      " |-- equ_First_Name: string (nullable = true)\n",
      " |-- dnb_First_Name: string (nullable = true)\n",
      " |-- match%_equ_First_Name_match_percentage: double (nullable = true)\n",
      " |-- match%_dnb_First_Name_match_percentage: double (nullable = true)\n",
      " |-- Last Name: string (nullable = true)\n",
      " |-- equ_Last_Name: string (nullable = true)\n",
      " |-- dnb_Last_Name: string (nullable = true)\n",
      " |-- match%_equ_Last_Name_match_percentage: double (nullable = true)\n",
      " |-- match%_dnb_Last_Name_match_percentage: double (nullable = true)\n",
      " |-- Date of Birth: date (nullable = true)\n",
      " |-- equ_Date_of_Birth: string (nullable = true)\n",
      " |-- dnb_Date_of_Birth: string (nullable = true)\n",
      " |-- match%_equ_Date_of_Birth_match_percentage: double (nullable = true)\n",
      " |-- match%_dnb_Date_of_Birth_match_percentage: double (nullable = true)\n",
      " |-- Blood Group: string (nullable = true)\n",
      " |-- equ_Blood_Group: string (nullable = true)\n",
      " |-- dnb_Blood_Group: string (nullable = true)\n",
      " |-- match%_equ_Blood_Group_match_percentage: double (nullable = true)\n",
      " |-- match%_dnb_Blood_Group_match_percentage: double (nullable = true)\n",
      " |-- Gender: string (nullable = true)\n",
      " |-- equ_Gender: string (nullable = true)\n",
      " |-- dnb_Gender: string (nullable = true)\n",
      " |-- match%_equ_Gender_match_percentage: double (nullable = true)\n",
      " |-- match%_dnb_Gender_match_percentage: double (nullable = true)\n",
      " |-- Marital Status: string (nullable = true)\n",
      " |-- equ_Marital_Status: string (nullable = true)\n",
      " |-- dnb_Marital_Status: string (nullable = true)\n",
      " |-- match%_equ_Marital_Status_match_percentage: double (nullable = true)\n",
      " |-- match%_dnb_Marital_Status_match_percentage: double (nullable = true)\n",
      " |-- Education Level: string (nullable = true)\n",
      " |-- equ_Education_Level: string (nullable = true)\n",
      " |-- dnb_Education_Level: string (nullable = true)\n",
      " |-- match%_equ_Education_Level_match_percentage: double (nullable = true)\n",
      " |-- match%_dnb_Education_Level_match_percentage: double (nullable = true)\n",
      " |-- Address: string (nullable = true)\n",
      " |-- equ_Address: string (nullable = true)\n",
      " |-- dnb_Address: string (nullable = true)\n",
      " |-- match%_equ_Address_match_percentage: double (nullable = true)\n",
      " |-- match%_dnb_Address_match_percentage: double (nullable = true)\n",
      " |-- City: string (nullable = true)\n",
      " |-- equ_City: string (nullable = true)\n",
      " |-- dnb_City: string (nullable = true)\n",
      " |-- match%_equ_City_match_percentage: double (nullable = true)\n",
      " |-- match%_dnb_City_match_percentage: double (nullable = true)\n",
      " |-- Postal Code: string (nullable = true)\n",
      " |-- equ_Postal_Code: string (nullable = true)\n",
      " |-- dnb_Postal_Code: string (nullable = true)\n",
      " |-- match%_equ_Postal_Code_match_percentage: double (nullable = true)\n",
      " |-- match%_dnb_Postal_Code_match_percentage: double (nullable = true)\n",
      " |-- Country: string (nullable = true)\n",
      " |-- equ_Country: string (nullable = true)\n",
      " |-- dnb_Country: string (nullable = true)\n",
      " |-- match%_equ_Country_match_percentage: double (nullable = true)\n",
      " |-- match%_dnb_Country_match_percentage: double (nullable = true)\n",
      " |-- Country Code: string (nullable = true)\n",
      " |-- equ_Country_Code: string (nullable = true)\n",
      " |-- dnb_Country_Code: string (nullable = true)\n",
      " |-- match%_equ_Country_Code_match_percentage: double (nullable = true)\n",
      " |-- match%_dnb_Country_Code_match_percentage: double (nullable = true)\n",
      " |-- Phone Number: string (nullable = true)\n",
      " |-- equ_Phone_Number: string (nullable = true)\n",
      " |-- dnb_Phone_Number: string (nullable = true)\n",
      " |-- match%_equ_Phone_Number_match_percentage: double (nullable = true)\n",
      " |-- match%_dnb_Phone_Number_match_percentage: double (nullable = true)\n",
      " |-- Company Name: string (nullable = true)\n",
      " |-- equ_Company_Name: string (nullable = true)\n",
      " |-- dnb_Company_Name: string (nullable = true)\n",
      " |-- match%_equ_Company_Name_match_percentage: double (nullable = true)\n",
      " |-- match%_dnb_Company_Name_match_percentage: double (nullable = true)\n",
      " |-- Email: string (nullable = true)\n",
      " |-- equ_Email: string (nullable = true)\n",
      " |-- dnb_Email: string (nullable = true)\n",
      " |-- match%_equ_Email_match_percentage: double (nullable = true)\n",
      " |-- match%_dnb_Email_match_percentage: double (nullable = true)\n",
      "\n"
     ]
    }
   ],
   "source": [
    "detail_report.printSchema()"
   ]
  },
  {
   "cell_type": "code",
   "execution_count": 233,
   "id": "10fdfef2-762c-4b76-9bbe-b5b597b64d5c",
   "metadata": {},
   "outputs": [],
   "source": [
    "from pyspark.sql.functions import avg\n",
    "\n",
    "def calculate_column_average(df, column_name):\n",
    "    # Calculate the average of the specified column\n",
    "    column_avg = df.select(avg(column_name)).collect()[0][0]\n",
    "    \n",
    "    return column_avg"
   ]
  },
  {
   "cell_type": "code",
   "execution_count": 271,
   "id": "6eea387e-26c9-4eda-81f5-846de3fd4175",
   "metadata": {},
   "outputs": [
    {
     "data": {
      "text/plain": [
       "100.0"
      ]
     },
     "execution_count": 271,
     "metadata": {},
     "output_type": "execute_result"
    }
   ],
   "source": [
    "calculate_column_average(detail_report,\"match%_dnb_Email_match_percentage\")"
   ]
  },
  {
   "cell_type": "code",
   "execution_count": 269,
   "id": "8e8b8ee5-33c7-4120-a447-762036586b54",
   "metadata": {},
   "outputs": [
    {
     "name": "stdout",
     "output_type": "stream",
     "text": [
      "+-----------+--------------+--------------+--------------------------------------+--------------------------------------+---------+-------------+-------------+-------------------------------------+-------------------------------------+-------------+-----------------+-----------------+-----------------------------------------+-----------------------------------------+-----------+---------------+---------------+---------------------------------------+---------------------------------------+------+----------+----------+----------------------------------+----------------------------------+--------------+------------------+------------------+------------------------------------------+------------------------------------------+-----------------+-------------------+-------------------+-------------------------------------------+-------------------------------------------+--------------------+--------------------+--------------------+-----------------------------------+-----------------------------------+-------------+-------------+-------------+--------------------------------+--------------------------------+-----------+---------------+---------------+---------------------------------------+---------------------------------------+--------------+--------------+--------------+-----------------------------------+-----------------------------------+------------+----------------+----------------+----------------------------------------+----------------------------------------+--------------+----------------+----------------+----------------------------------------+----------------------------------------+--------------------+--------------------+--------------------+----------------------------------------+----------------------------------------+--------------------+--------------------+--------------------+---------------------------------+---------------------------------+\n",
      "| First Name|equ_First_Name|dnb_First_Name|match%_equ_First_Name_match_percentage|match%_dnb_First_Name_match_percentage|Last Name|equ_Last_Name|dnb_Last_Name|match%_equ_Last_Name_match_percentage|match%_dnb_Last_Name_match_percentage|Date of Birth|equ_Date_of_Birth|dnb_Date_of_Birth|match%_equ_Date_of_Birth_match_percentage|match%_dnb_Date_of_Birth_match_percentage|Blood Group|equ_Blood_Group|dnb_Blood_Group|match%_equ_Blood_Group_match_percentage|match%_dnb_Blood_Group_match_percentage|Gender|equ_Gender|dnb_Gender|match%_equ_Gender_match_percentage|match%_dnb_Gender_match_percentage|Marital Status|equ_Marital_Status|dnb_Marital_Status|match%_equ_Marital_Status_match_percentage|match%_dnb_Marital_Status_match_percentage|  Education Level|equ_Education_Level|dnb_Education_Level|match%_equ_Education_Level_match_percentage|match%_dnb_Education_Level_match_percentage|             Address|         equ_Address|         dnb_Address|match%_equ_Address_match_percentage|match%_dnb_Address_match_percentage|         City|     equ_City|     dnb_City|match%_equ_City_match_percentage|match%_dnb_City_match_percentage|Postal Code|equ_Postal_Code|dnb_Postal_Code|match%_equ_Postal_Code_match_percentage|match%_dnb_Postal_Code_match_percentage|       Country|   equ_Country|   dnb_Country|match%_equ_Country_match_percentage|match%_dnb_Country_match_percentage|Country Code|equ_Country_Code|dnb_Country_Code|match%_equ_Country_Code_match_percentage|match%_dnb_Country_Code_match_percentage|  Phone Number|equ_Phone_Number|dnb_Phone_Number|match%_equ_Phone_Number_match_percentage|match%_dnb_Phone_Number_match_percentage|        Company Name|    equ_Company_Name|    dnb_Company_Name|match%_equ_Company_Name_match_percentage|match%_dnb_Company_Name_match_percentage|               Email|           equ_Email|           dnb_Email|match%_equ_Email_match_percentage|match%_dnb_Email_match_percentage|\n",
      "+-----------+--------------+--------------+--------------------------------------+--------------------------------------+---------+-------------+-------------+-------------------------------------+-------------------------------------+-------------+-----------------+-----------------+-----------------------------------------+-----------------------------------------+-----------+---------------+---------------+---------------------------------------+---------------------------------------+------+----------+----------+----------------------------------+----------------------------------+--------------+------------------+------------------+------------------------------------------+------------------------------------------+-----------------+-------------------+-------------------+-------------------------------------------+-------------------------------------------+--------------------+--------------------+--------------------+-----------------------------------+-----------------------------------+-------------+-------------+-------------+--------------------------------+--------------------------------+-----------+---------------+---------------+---------------------------------------+---------------------------------------+--------------+--------------+--------------+-----------------------------------+-----------------------------------+------------+----------------+----------------+----------------------------------------+----------------------------------------+--------------+----------------+----------------+----------------------------------------+----------------------------------------+--------------------+--------------------+--------------------+----------------------------------------+----------------------------------------+--------------------+--------------------+--------------------+---------------------------------+---------------------------------+\n",
      "|     Laurie|        Laurie|        Laurie|                                 100.0|                                 100.0|   Harris|       Harris|       Harris|                                100.0|                                100.0|   1978-04-16|       1978-04-16|         78-04-16|                                    100.0|                                     80.0|         O-|             O-|             O-|                                  100.0|                                  100.0|Female|         F|    Female|                16.666666666666664|                             100.0|      divorced|          divorced|          divorced|                                     100.0|                                     100.0|  Master's Degree|    Master's Degree|    Master's Degree|                                      100.0|                                      100.0|1090 Kylie Prairi...|149 Janet streets...|1090 Kylie Prairi...|                  27.27272727272727|                              100.0|San Francisco|San Francisco|San Francisco|                           100.0|                           100.0|      20835|          01601|          20835|                                    0.0|                                  100.0| United States| United States| United States|                              100.0|                              100.0|          US|              US|              US|                                   100.0|                                   100.0| +1-8293517046|   +1-8293517046|   +1-8293517046|                                   100.0|                                   100.0|Lang  Kent and Wa...|Lang  Kent and Wa...|Lang  Kent and Wa...|                                   100.0|                                   100.0|laurie.harris@lan...|laurie.harris@lan...|laurie.harris@lan...|                            100.0|                            100.0|\n",
      "|     Angela|        Angela|        Angela|                                 100.0|                                 100.0|    Sloan|        Sloan|        Sloan|                                100.0|                                100.0|   1981-06-17|       1981-06-17|       1981-06-17|                                    100.0|                                    100.0|         B-|             B-|             B-|                                  100.0|                                  100.0|Female|    Female|         F|                             100.0|                16.666666666666664|      divorced|          divorced|          divorced|                                     100.0|                                     100.0|      High School|                PhD|        High School|                          9.090909090909093|                                      100.0|773 Velazquez Sho...|773 Velazquez Sho...|773 Velazquez Sho...|                              100.0|                              100.0| Philadelphia|   Manchester| Philadelphia|               8.333333333333337|                           100.0|      61499|          61499|          61499|                                  100.0|                                  100.0| United States| United States| United States|                              100.0|                              100.0|          US|              US|              US|                                   100.0|                                   100.0| +1-1534826097|   +1-1534826097|   +1-1534826097|                                   100.0|                                   100.0|           Smith Inc|           Smith Inc|           Smith Inc|                                   100.0|                                   100.0|angela.sloan@smit...|angela.sloan@smit...|angela.sloan@smit...|                            100.0|                            100.0|\n",
      "|    Rachael|       Rachael|       Rachael|                                 100.0|                                 100.0|    Perry|        Perry|        Perry|                                100.0|                                100.0|   1975-09-17|       1975-09-17|       1975-09-17|                                    100.0|                                    100.0|        AB-|            AB-|            AB-|                                  100.0|                                  100.0|Female|    Female|    Female|                             100.0|                             100.0|      divorced|          divorced|          divorced|                                     100.0|                                     100.0|Bachelor's Degree|  Bachelor's Degree|  Bachelor's Degree|                                      100.0|                                      100.0|4 Alexander heigh...|4 Alexander heigh...|4 Alexander heigh...|                              100.0|                              100.0|    Liverpool|    Liverpool|    Liverpool|                           100.0|                           100.0|    G78 5ZH|          56892|        G78 5ZH|                      14.28571428571429|                                  100.0|United Kingdom|United Kingdom|United Kingdom|                              100.0|                              100.0|          GB|              GB|              GB|                                   100.0|                                   100.0|+44-8290673415|  +44-8290673415|  +44-8290673415|                                   100.0|                                   100.0|Anderson  Allen a...|Anderson  Allen a...|Anderson  Allen a...|                                   100.0|                                   100.0|rachael.perry@and...|rachael.perry@and...|rachael.perry@and...|                            100.0|                            100.0|\n",
      "|  Stephanie|     Stephanie|     Stephanie|                                 100.0|                                 100.0|    Riley|        Riley|        Riley|                                100.0|                                100.0|   1962-12-01|       1962-12-01|       1962-12-01|                                    100.0|                                    100.0|         B-|             B-|             B-|                                  100.0|                                  100.0|Female|    Female|         F|                             100.0|                16.666666666666664|       married|           married|           married|                                     100.0|                                     100.0|  Master's Degree|    Master's Degree|    Master's Degree|                                      100.0|                                      100.0|07 Justin unions,...|07 Justin unions,...|07 Justin unions,...|                              100.0|                              100.0|    Doncaster|    Doncaster|    Doncaster|                           100.0|                           100.0|    S2G 4DH|        S2G 4DH|        S2G 4DH|                                  100.0|                                  100.0|United Kingdom|United Kingdom|United Kingdom|                              100.0|                              100.0|          GB|              GB|              GB|                                   100.0|                                   100.0|+44-8625037149|  +44-2741608935|  +44-8625037149|                       28.57142857142857|                                   100.0|          Winter Inc|          Winter Inc|          Winter Inc|                                   100.0|                                   100.0|stephanie.riley@w...|stephanie.riley@w...|stephanie.riley@w...|                            100.0|                            100.0|\n",
      "|    Cameron|       Cameron|       Cameron|                                 100.0|                                 100.0|  Roberts|      Roberts|      Roberts|                                100.0|                                100.0|   2004-07-26|       2004-07-26|       2004-07-26|                                    100.0|                                    100.0|        AB+|            AB+|            AB+|                                  100.0|                                  100.0|  Male|      Male|      Male|                             100.0|                             100.0|        single|            single|            single|                                     100.0|                                     100.0|Bachelor's Degree|  Bachelor's Degree|  Bachelor's Degree|                                      100.0|                                      100.0|86 Bailey crest, ...|86 Bailey crest, ...|86 Bailey crest, ...|                              100.0|                              100.0|      Glasgow|      Glasgow|      Glasgow|                           100.0|                           100.0|     N7 4RF|         N7 4RF|         N7 4RF|                                  100.0|                                  100.0|United Kingdom|United Kingdom|United Kingdom|                              100.0|                              100.0|          GB|              GB|              GB|                                   100.0|                                   100.0|+44-3068157249|  +44-3068157249|  +44-3068157249|                                   100.0|                                   100.0|     Robinson Gibson|     Robinson Gibson|     Robinson Gibson|                                   100.0|                                   100.0|cameron.roberts@r...|cameron.roberts@r...|cameron.roberts@r...|                            100.0|                            100.0|\n",
      "|       Ross|          Ross|          Ross|                                 100.0|                                 100.0|    Brown|        Brown|        Brown|                                100.0|                                100.0|   1964-04-19|       1964-04-19|       1964-04-19|                                    100.0|                                    100.0|         O+|             O+|             O+|                                  100.0|                                  100.0|  Male|      Male|      Male|                             100.0|                             100.0|       married|           married|           married|                                     100.0|                                     100.0|              PhD|                PhD|                PhD|                                      100.0|                                      100.0|009 Scott Alley, ...|009 Scott Alley, ...|009 Scott Alley, ...|                              100.0|                              100.0|  San Antonio|  San Antonio|  San Antonio|                           100.0|                           100.0|      89654|          59294|        TS3 8FW|                                   40.0|                                    0.0| United States| United States| United States|                              100.0|                              100.0|          US|              US|              US|                                   100.0|                                   100.0| +1-5947032618|   +1-5947032618|   +1-5947032618|                                   100.0|                                   100.0|Franco  Byrd and ...|Franco  Byrd and ...|Franco  Byrd and ...|                                   100.0|                                   100.0|ross.brown@franco...|ross.brown@franco...|ross.brown@franco...|                            100.0|                            100.0|\n",
      "|      Karla|         Karla|         Karla|                                 100.0|                                 100.0|  Carlson|      Carlson|      Carlson|                                100.0|                                100.0|   1986-06-21|       1986-06-21|       1986-06-21|                                    100.0|                                    100.0|         O+|             O+|             O+|                                  100.0|                                  100.0|Female|    Female|    Female|                             100.0|                             100.0|       married|           married|           married|                                     100.0|                                     100.0|              PhD|                PhD|                PhD|                                      100.0|                                      100.0|996 Vaughn Villag...|996 Vaughn Villag...|86419 Murphy Stat...|                              100.0|                 19.047619047619047| Jacksonville| Jacksonville| Jacksonville|                           100.0|                           100.0|      43562|          43562|          43562|                                  100.0|                                  100.0| United States| United States| United States|                              100.0|                              100.0|          US|              US|              US|                                   100.0|                                   100.0| +1-8245796013|   +1-1567398402|   +1-8245796013|                       30.76923076923077|                                   100.0|        Gonzalez Inc|        Gonzalez Inc|        Gonzalez Inc|                                   100.0|                                   100.0|karla.carlson@gon...|karla.carlson@gon...|karla.carlson@gon...|                            100.0|                            100.0|\n",
      "|       Marc|          Marc|          Marc|                                 100.0|                                 100.0|     Hunt|         Hunt|         Hunt|                                100.0|                                100.0|   1967-03-30|         67-03-30|       1967-03-30|                                     80.0|                                    100.0|         A-|             A-|             A-|                                  100.0|                                  100.0|  Male|      Male|      Male|                             100.0|                             100.0|       married|           married|           married|                                     100.0|                                     100.0|              PhD|                PhD|                PhD|                                      100.0|                                      100.0|19 Glenn mill, Fl...|19 Glenn mill, Fl...|19 Glenn mill, Fl...|                              100.0|                              100.0|       London|       London|       London|                           100.0|                           100.0|   HD7V 6ES|       HD7V 6ES|       HD7V 6ES|                                  100.0|                                  100.0|United Kingdom|United Kingdom|United Kingdom|                              100.0|                              100.0|          GB|              GB|              GB|                                   100.0|                                   100.0|+44-0314257698|  +44-0314257698|  +44-0314257698|                                   100.0|                                   100.0|            Hill Ltd|            Hill Ltd|            Hill Ltd|                                   100.0|                                   100.0|marc.hunt@hillltd...|marc.hunt@hillltd...|marc.hunt@hillltd...|                            100.0|                            100.0|\n",
      "|      Renee|         Renee|         Renee|                                 100.0|                                 100.0|    Clark|        Clark|        Clark|                                100.0|                                100.0|   1995-05-06|       1995-05-06|       1995-05-06|                                    100.0|                                    100.0|        AB-|            AB-|            AB-|                                  100.0|                                  100.0|Female|    Female|    Female|                             100.0|                             100.0|        single|            single|            single|                                     100.0|                                     100.0|  Master's Degree|    Master's Degree|    Master's Degree|                                      100.0|                                      100.0|59503 Shane Squar...|59503 Shane Squar...|59503 Shane Squar...|                              100.0|                              100.0|       Boston|       Boston|       Boston|                           100.0|                           100.0|      56406|          56406|          56406|                                  100.0|                                  100.0| United States| United States| United States|                              100.0|                              100.0|          US|              US|              US|                                   100.0|                                   100.0| +1-2694807135|   +1-0362945178|   +1-2694807135|                       38.46153846153846|                                   100.0|     Rojas Hernandez|     Rojas Hernandez|     Rojas Hernandez|                                   100.0|                                   100.0|renee.clark@rojas...|renee.clark@rojas...|renee.clark@rojas...|                            100.0|                            100.0|\n",
      "|     Austin|        Austin|        Austin|                                 100.0|                                 100.0|    Price|        Price|        Price|                                100.0|                                100.0|   2004-06-09|       2004-06-09|       2004-06-09|                                    100.0|                                    100.0|         A-|             A-|             A-|                                  100.0|                                  100.0|  Male|      Male|      Male|                             100.0|                             100.0|        single|            single|            single|                                     100.0|                                     100.0|Bachelor's Degree|  Bachelor's Degree|                PhD|                                      100.0|                         11.764705882352944|88645 Katherine P...|88645 Katherine P...|88645 Katherine P...|                              100.0|                              100.0|       Austin| Philadelphia|       Austin|               8.333333333333337|                           100.0|      62573|          81490|          62573|                                    0.0|                                  100.0| United States| United States| United States|                              100.0|                              100.0|          US|              US|              US|                                   100.0|                                   100.0| +1-3184206957|   +1-3184206957|   +1-3184206957|                                   100.0|                                   100.0|Edwards  Anderson...|Edwards  Anderson...|Edwards  Anderson...|                                   100.0|                                   100.0|austin.price@edwa...|austin.price@edwa...|austin.price@edwa...|                            100.0|                            100.0|\n",
      "|     Ashley|        Ashley|        Ashley|                                 100.0|                                 100.0|  Johnson|      Johnson|      Johnson|                                100.0|                                100.0|   1973-06-12|       1973-06-12|       1973-06-12|                                    100.0|                                    100.0|        AB+|            AB+|            AB+|                                  100.0|                                  100.0|Female|    Female|    Female|                             100.0|                             100.0|      divorced|          divorced|          divorced|                                     100.0|                                     100.0|  Master's Degree|        High School|    Master's Degree|                          6.666666666666665|                                      100.0|0172 Zachary Keys...|0172 Zachary Keys...|0172 Zachary Keys...|                              100.0|                              100.0|      Phoenix|     New York|      Phoenix|                             0.0|                           100.0|      36814|          36814|          36814|                                  100.0|                                  100.0| United States| United States| United States|                              100.0|                              100.0|          US|              US|              US|                                   100.0|                                   100.0| +1-1896235074|   +1-1896235074|   +1-1896235074|                                   100.0|                                   100.0|          Morris Fox|          Morris Fox|          Morris Fox|                                   100.0|                                   100.0|ashley.johnson@mo...|ashley.johnson@mo...|ashley.johnson@mo...|                            100.0|                            100.0|\n",
      "|   Lorraine|      Lorraine|      Lorraine|                                 100.0|                                 100.0|    Berry|        Berry|        Berry|                                100.0|                                100.0|   1975-02-22|       1975-02-22|       1975-02-22|                                    100.0|                                    100.0|        AB-|            AB-|            AB-|                                  100.0|                                  100.0|Female|    Female|         F|                             100.0|                16.666666666666664|      divorced|          divorced|          divorced|                                     100.0|                                     100.0|  Master's Degree|    Master's Degree|    Master's Degree|                                      100.0|                                      100.0|37 Christine cree...|37 Christine cree...|27976 Sweeney Roa...|                              100.0|                 21.052631578947366|   Birmingham|   Birmingham|      Cardiff|                           100.0|              19.999999999999996|   AL03 8EE|       AL03 8EE|       AL03 8EE|                                  100.0|                                  100.0|United Kingdom|United Kingdom|United Kingdom|                              100.0|                              100.0|          GB|              GB|              GB|                                   100.0|                                   100.0|+44-0547169823|  +44-0547169823|  +44-0547169823|                                   100.0|                                   100.0|Bryan  Thomas and...|Bryan  Thomas and...|Bryan  Thomas and...|                                   100.0|                                   100.0|lorraine.berry@br...|lorraine.berry@br...|lorraine.berry@br...|                            100.0|                            100.0|\n",
      "|       Josh|          Josh|          Josh|                                 100.0|                                 100.0|    Craig|        Craig|        Craig|                                100.0|                                100.0|   1976-02-29|       1976-02-29|       1976-02-29|                                    100.0|                                    100.0|         A+|             A+|             A+|                                  100.0|                                  100.0|  Male|      Male|      Male|                             100.0|                             100.0|      divorced|          divorced|          divorced|                                     100.0|                                     100.0|      High School|  Bachelor's Degree|        High School|                         11.764705882352944|                                      100.0|2 Barry points, F...|2 Barry points, F...|2 Barry points, F...|                              100.0|                              100.0|        Leeds|        Leeds|        Leeds|                           100.0|                           100.0|   WN13 4DE|       CW85 5LH|       WN13 4DE|                                   12.5|                                  100.0|United Kingdom|United Kingdom|United Kingdom|                              100.0|                              100.0|          GB|              GB|              GB|                                   100.0|                                   100.0|+44-3597486201|  +44-3597486201|  +44-3597486201|                                   100.0|                                   100.0|Ball  James and R...|Ball  James and R...|Ball  James and R...|                                   100.0|                                   100.0|josh.craig@ballja...|josh.craig@ballja...|josh.craig@ballja...|                            100.0|                            100.0|\n",
      "|    Jessica|       Jessica|       Jessica|                                 100.0|                                 100.0|    James|        James|        James|                                100.0|                                100.0|   2005-06-18|       2005-06-18|       2005-06-18|                                    100.0|                                    100.0|         B-|             B-|             B-|                                  100.0|                                  100.0|Female|    Female|    Female|                             100.0|                             100.0|        single|            single|            single|                                     100.0|                                     100.0|  Master's Degree|    Master's Degree|    Master's Degree|                                      100.0|                                      100.0|87 Jade glens, St...|87 Jade glens, St...|87 Jade glens, St...|                              100.0|                              100.0|      Bristol|       London|      Bristol|               14.28571428571429|                           100.0|   CT4M 1ES|       CT4M 1ES|       CT4M 1ES|                                  100.0|                                  100.0|United Kingdom|United Kingdom|United Kingdom|                              100.0|                              100.0|          GB|              GB|              GB|                                   100.0|                                   100.0|+44-6439108725|   +1-5264789031|  +44-6092187534|                       21.42857142857143|                                    50.0|           Smith Inc|           Smith Inc|           Smith Inc|                                   100.0|                                   100.0|jessica.james@smi...|jessica.james@smi...|jessica.james@smi...|                            100.0|                            100.0|\n",
      "|      Emily|         Emily|         Emily|                                 100.0|                                 100.0|    Price|        Price|        Price|                                100.0|                                100.0|   1996-08-17|       1996-08-17|         96-08-17|                                    100.0|                                     80.0|        AB-|            AB-|            AB-|                                  100.0|                                  100.0|Female|    Female|    Female|                             100.0|                             100.0|       married|           married|           married|                                     100.0|                                     100.0|Bachelor's Degree|        High School|  Bachelor's Degree|                         11.764705882352944|                                      100.0|603 Wilson Ford, ...|93198 Kenneth Hig...|603 Wilson Ford, ...|                  32.55813953488372|                              100.0|San Francisco|San Francisco|San Francisco|                           100.0|                           100.0|      65831|          57739|          65831|                     19.999999999999996|                                  100.0| United States| United States| United States|                              100.0|                              100.0|          US|              US|              US|                                   100.0|                                   100.0| +1-7219834650|   +1-7219834650|   +1-7219834650|                                   100.0|                                   100.0|      Walton Walters|      Walton Walters|      Walton Walters|                                   100.0|                                   100.0|emily.price@walto...|emily.price@walto...|emily.price@walto...|                            100.0|                            100.0|\n",
      "|       John|          John|          John|                                 100.0|                                 100.0|Jefferson|    Jefferson|    Jefferson|                                100.0|                                100.0|   1962-08-15|         62-08-15|       1962-08-15|                                     80.0|                                    100.0|         A+|     A Positive|     A Positive|                      9.999999999999998|                      9.999999999999998|  Male|         M|      Male|                              25.0|                             100.0|       widowed|           widowed|           widowed|                                     100.0|                                     100.0|              PhD|                PhD|                PhD|                                      100.0|                                      100.0|8089 Brown Courts...|8089 Brown Courts...|8089 Brown Courts...|                              100.0|                              100.0|     New York|     New York|   Birmingham|                           100.0|                             0.0|      77696|        G1W 5XD|          77696|                                    0.0|                                  100.0| United States| United States| United States|                              100.0|                              100.0|          US|              US|              US|                                   100.0|                                   100.0| +1-1740239685|   +1-4502768139|   +1-1740239685|                       38.46153846153846|                                   100.0|Mcneil  Freeman a...|Mcneil  Freeman a...|Mcneil  Freeman a...|                                   100.0|                                   100.0|john.jefferson@mc...|john.jefferson@mc...|john.jefferson@mc...|                            100.0|                            100.0|\n",
      "|     Joseph|        Joseph|        Joseph|                                 100.0|                                 100.0|     Howe|         Howe|         Howe|                                100.0|                                100.0|   1976-04-27|       1976-04-27|       1976-04-27|                                    100.0|                                    100.0|         O+|             O+|             O+|                                  100.0|                                  100.0|  Male|      Male|      Male|                             100.0|                             100.0|      divorced|          divorced|          divorced|                                     100.0|                                     100.0|  Master's Degree|  Bachelor's Degree|    Master's Degree|                          70.58823529411764|                                      100.0|24 Jonathan squar...|24 Jonathan squar...|24 Jonathan squar...|                              100.0|                              100.0|      Cardiff|      Cardiff|      Cardiff|                           100.0|                           100.0|    N37 8FL|        N37 8FL|        N37 8FL|                                  100.0|                                  100.0|United Kingdom|United Kingdom|United Kingdom|                              100.0|                              100.0|          GB|              GB|              GB|                                   100.0|                                   100.0|+44-4251860397|  +44-4251860397|  +44-4251860397|                                   100.0|                                   100.0|Booth  Baker and ...|Booth  Baker and ...|Booth  Baker and ...|                                   100.0|                                   100.0|joseph.howe@booth...|joseph.howe@booth...|joseph.howe@booth...|                            100.0|                            100.0|\n",
      "|     Connie|        Connie|        Connie|                                 100.0|                                 100.0|      May|          May|          May|                                100.0|                                100.0|   1978-02-15|       1978-02-15|       1978-02-15|                                    100.0|                                    100.0|         O+|             O+|             O+|                                  100.0|                                  100.0|Female|    Female|    Female|                             100.0|                             100.0|       married|           married|           married|                                     100.0|                                     100.0|  Master's Degree|    Master's Degree|                PhD|                                      100.0|                          6.666666666666665|15990 Cochran Cor...|15990 Cochran Cor...|15990 Cochran Cor...|                              100.0|                              100.0|      Houston|      Houston|      Houston|                           100.0|                           100.0|      08875|          08875|       SP03 3XT|                                  100.0|                                   12.5| United States| United States| United States|                              100.0|                              100.0|          US|              US|              US|                                   100.0|                                   100.0| +1-6587023194|   +1-6587023194|   +1-6587023194|                                   100.0|                                   100.0|       Martin Fisher|       Martin Fisher|       Martin Fisher|                                   100.0|                                   100.0|connie.may@martin...|connie.may@martin...|connie.may@martin...|                            100.0|                            100.0|\n",
      "|Christopher|   Christopher|   Christopher|                                 100.0|                                 100.0|   Akhtar|       Akhtar|       Akhtar|                                100.0|                                100.0|   1963-09-21|       1963-09-21|       1963-09-21|                                    100.0|                                    100.0|         A-|             A-|             A-|                                  100.0|                                  100.0|  Male|      Male|      Male|                             100.0|                             100.0|       widowed|           widowed|           widowed|                                     100.0|                                     100.0|              PhD|                PhD|                PhD|                                      100.0|                                      100.0|888 Tina meadow, ...|888 Tina meadow, ...|888 Tina meadow, ...|                              100.0|                              100.0|    Liverpool|   Manchester|    Liverpool|                             0.0|                           100.0|    SN0 2TN|        SN0 2TN|        SN0 2TN|                                  100.0|                                  100.0|United Kingdom|United Kingdom|United Kingdom|                              100.0|                              100.0|          GB|              GB|              GB|                                   100.0|                                   100.0|+44-5389241067|  +44-4192573680|  +44-5389241067|                       42.85714285714286|                                   100.0|Roberts  Wall and...|Roberts  Wall and...|Roberts  Wall and...|                                   100.0|                                   100.0|christopher.akhta...|christopher.akhta...|christopher.akhta...|                            100.0|                            100.0|\n",
      "|      Janet|         Janet|         Janet|                                 100.0|                                 100.0|    Smith|        Smith|        Smith|                                100.0|                                100.0|   1988-03-02|       1988-03-02|       1988-03-02|                                    100.0|                                    100.0|        AB+|            AB+|            AB+|                                  100.0|                                  100.0|Female|         F|    Female|                16.666666666666664|                             100.0|        single|            single|            single|                                     100.0|                                     100.0|Bachelor's Degree|        High School|  Bachelor's Degree|                         11.764705882352944|                                      100.0|75 Max mill, Stud...|75 Max mill, Stud...|95361 Michael Rid...|                              100.0|                 33.333333333333336|   Manchester|   Manchester|   Manchester|                           100.0|                           100.0|   CF2R 7RF|       CF2R 7RF|       CF2R 7RF|                                  100.0|                                  100.0|United Kingdom|United Kingdom|United Kingdom|                              100.0|                              100.0|          GB|              GB|              GB|                                   100.0|                                   100.0|+44-8651290473|  +44-8651290473|  +44-8651290473|                                   100.0|                                   100.0|      Saunders Yates|      Saunders Yates|      Saunders Yates|                                   100.0|                                   100.0|janet.smith@saund...|janet.smith@saund...|janet.smith@saund...|                            100.0|                            100.0|\n",
      "+-----------+--------------+--------------+--------------------------------------+--------------------------------------+---------+-------------+-------------+-------------------------------------+-------------------------------------+-------------+-----------------+-----------------+-----------------------------------------+-----------------------------------------+-----------+---------------+---------------+---------------------------------------+---------------------------------------+------+----------+----------+----------------------------------+----------------------------------+--------------+------------------+------------------+------------------------------------------+------------------------------------------+-----------------+-------------------+-------------------+-------------------------------------------+-------------------------------------------+--------------------+--------------------+--------------------+-----------------------------------+-----------------------------------+-------------+-------------+-------------+--------------------------------+--------------------------------+-----------+---------------+---------------+---------------------------------------+---------------------------------------+--------------+--------------+--------------+-----------------------------------+-----------------------------------+------------+----------------+----------------+----------------------------------------+----------------------------------------+--------------+----------------+----------------+----------------------------------------+----------------------------------------+--------------------+--------------------+--------------------+----------------------------------------+----------------------------------------+--------------------+--------------------+--------------------+---------------------------------+---------------------------------+\n",
      "only showing top 20 rows\n",
      "\n"
     ]
    }
   ],
   "source": [
    "detail_report.show()\n"
   ]
  },
  {
   "cell_type": "code",
   "execution_count": 270,
   "id": "a730775f-978b-486e-8928-87c32809f971",
   "metadata": {},
   "outputs": [
    {
     "name": "stdout",
     "output_type": "stream",
     "text": [
      "+---------------+----------------------------+----------------------+\n",
      "|attribute names|overall experian matching % |overall D&B matching %|\n",
      "+---------------+----------------------------+----------------------+\n",
      "|passport Number|                       100.0|                 100.0|\n",
      "|     fisrt name|                       100.0|                 100.0|\n",
      "|      last name|                       100.0|                 100.0|\n",
      "|  date of birth|                     95.9788|               96.9862|\n",
      "|    blood group|                     91.0036|               93.3715|\n",
      "|         gender|           84.26375000000156|      88.1480833333347|\n",
      "| marital status|                       100.0|                 100.0|\n",
      "|education level|           87.92690944741793|     90.96800427807685|\n",
      "|        address|           85.57572036533742|     89.10726807366501|\n",
      "|           city|           83.50448777888673|     87.57197336829755|\n",
      "|    postal code|           82.33951071428505|     86.73370714285663|\n",
      "|        country|                       100.0|                 100.0|\n",
      "|   country code|                       100.0|                 100.0|\n",
      "|   phone number|           86.68834065934041|     89.86903846153822|\n",
      "|   company name|                       100.0|                 100.0|\n",
      "|          email|                       100.0|                 100.0|\n",
      "+---------------+----------------------------+----------------------+\n",
      "\n"
     ]
    }
   ],
   "source": [
    "sr.show()\n"
   ]
  },
  {
   "cell_type": "code",
   "execution_count": 272,
   "id": "15f34e6d-7c10-48cb-96a7-40aaafea8979",
   "metadata": {},
   "outputs": [
    {
     "data": {
      "text/plain": [
       "93.58006993532932"
      ]
     },
     "execution_count": 272,
     "metadata": {},
     "output_type": "execute_result"
    }
   ],
   "source": [
    "calculate_column_average(sr,\"overall experian matching % \")"
   ]
  },
  {
   "cell_type": "code",
   "execution_count": 273,
   "id": "b5b53e73-189e-47db-a245-3d31e99faac1",
   "metadata": {},
   "outputs": [
    {
     "data": {
      "text/plain": [
       "95.17223591611055"
      ]
     },
     "execution_count": 273,
     "metadata": {},
     "output_type": "execute_result"
    }
   ],
   "source": [
    "calculate_column_average(sr,\"overall D&B matching %\")"
   ]
  },
  {
   "cell_type": "code",
   "execution_count": null,
   "id": "05606f9d-03a1-40ac-9828-7962fc228160",
   "metadata": {},
   "outputs": [],
   "source": [
    "#D&B has been performing better "
   ]
  }
 ],
 "metadata": {
  "kernelspec": {
   "display_name": "Python 3 (ipykernel)",
   "language": "python",
   "name": "python3"
  },
  "language_info": {
   "codemirror_mode": {
    "name": "ipython",
    "version": 3
   },
   "file_extension": ".py",
   "mimetype": "text/x-python",
   "name": "python",
   "nbconvert_exporter": "python",
   "pygments_lexer": "ipython3",
   "version": "3.8.19"
  }
 },
 "nbformat": 4,
 "nbformat_minor": 5
}
